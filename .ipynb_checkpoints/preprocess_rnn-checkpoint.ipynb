{
 "cells": [
  {
   "cell_type": "markdown",
   "metadata": {},
   "source": [
    "# Music Genre Classification\n",
    "\n",
    "## Data Pre-Processing for Recurrent NN\n",
    "\n",
    "Fabrizio Niro - Jacopo Signò\n",
    "\n",
    "GTZAN Dataset - Music Genre Classification \n",
    "\n",
    "https://www.kaggle.com/datasets/andradaolteanu/gtzan-dataset-music-genre-classification"
   ]
  },
  {
   "cell_type": "code",
   "execution_count": 1,
   "metadata": {},
   "outputs": [],
   "source": [
    "import librosa as lr\n",
    "import pandas as pd\n",
    "import numpy as np\n",
    "import IPython.display as ipyd\n",
    "from collections import Counter\n",
    "import math\n",
    "import os\n",
    "from pathlib import Path\n",
    "import pickle\n",
    "import torch\n",
    "import sklearn\n",
    "import torch.nn.functional as tf\n",
    "from sklearn import preprocessing\n",
    "from sklearn.model_selection import train_test_split\n",
    "from sklearn.preprocessing import StandardScaler\n",
    "import sys"
   ]
  },
  {
   "cell_type": "markdown",
   "metadata": {},
   "source": [
    "The function \"tracksplit\" splits the audio track, loaded into an array, in n subtracks"
   ]
  },
  {
   "cell_type": "code",
   "execution_count": 2,
   "metadata": {},
   "outputs": [],
   "source": [
    "def tracksplit(track, nsplit = 10):\n",
    "    #splits a track in n subtracks of equal length\n",
    "    length = len(track) // nsplit\n",
    "    subtracks = []\n",
    "    acc = 0\n",
    "\n",
    "    for i in range(nsplit):\n",
    "        subtracks.append(track[acc:acc+length])\n",
    "        acc += length\n",
    "\n",
    "    return subtracks"
   ]
  },
  {
   "cell_type": "markdown",
   "metadata": {},
   "source": [
    "We iterate through the dataset structure to split all the audio tracks into 10 tracks of 3 seconds length"
   ]
  },
  {
   "cell_type": "code",
   "execution_count": 3,
   "metadata": {},
   "outputs": [
    {
     "name": "stderr",
     "output_type": "stream",
     "text": [
      "/home/fabrizio/miniconda3/envs/deepl/lib/python3.9/site-packages/librosa/util/decorators.py:88: UserWarning: PySoundFile failed. Trying audioread instead.\n",
      "  return f(*args, **kwargs)\n"
     ]
    }
   ],
   "source": [
    "sec3_subtracks = []\n",
    "\n",
    "for directory in os.listdir('Data/genres_original'):\n",
    "\n",
    "    for file in os.listdir('Data/genres_original/{}'.format(directory)):\n",
    "\n",
    "        try:\n",
    "            track, _ = lr.load('Data/genres_original/{}/{}'.format(directory, file))\n",
    "\n",
    "        except:\n",
    "            track, _ = lr.load('Data/genres_original/{}/{}{}'.format(directory, file[:-5], '0.wav'))\n",
    "\n",
    "        for subtr in tracksplit(track):\n",
    "\n",
    "            sec3_subtracks.append(subtr)\n"
   ]
  },
  {
   "cell_type": "markdown",
   "metadata": {},
   "source": [
    "The length of the arrays generated starting from the .wav files differs slightly among the set. We regularize the lengths taking as proxy the minimum length found "
   ]
  },
  {
   "cell_type": "code",
   "execution_count": 4,
   "metadata": {},
   "outputs": [
    {
     "data": {
      "text/plain": [
       "dict_keys([66150, 66179, 66792, 66167, 66176, 66418, 66506, 66814, 66352, 66616, 66134, 66140, 67012, 66968, 66308, 66528, 67228, 66924, 66198, 66682, 66748, 66594, 67210, 67580, 66770, 66000, 66440, 66330, 66374, 66880, 66110, 67034, 66946])"
      ]
     },
     "execution_count": 4,
     "metadata": {},
     "output_type": "execute_result"
    }
   ],
   "source": [
    "sec3_len =[]\n",
    "for i in sec3_subtracks:\n",
    "    sec3_len.append(len(i))\n",
    "\n",
    "Counter(sec3_len).keys()"
   ]
  },
  {
   "cell_type": "code",
   "execution_count": 5,
   "metadata": {},
   "outputs": [
    {
     "data": {
      "text/plain": [
       "66000"
      ]
     },
     "execution_count": 5,
     "metadata": {},
     "output_type": "execute_result"
    }
   ],
   "source": [
    "min_len = min(Counter(sec3_len).keys())\n",
    "min_len"
   ]
  },
  {
   "cell_type": "code",
   "execution_count": 6,
   "metadata": {},
   "outputs": [
    {
     "data": {
      "text/plain": [
       "dict_keys([66000])"
      ]
     },
     "execution_count": 6,
     "metadata": {},
     "output_type": "execute_result"
    }
   ],
   "source": [
    "sec3_subtr_trim = []\n",
    "for i in sec3_subtracks:\n",
    "    sec3_subtr_trim.append(i[:min_len])\n",
    "\n",
    "sec3_len_trim =[]\n",
    "for i in sec3_subtr_trim:\n",
    "    sec3_len_trim.append(len(i))\n",
    "\n",
    "Counter(sec3_len_trim).keys()"
   ]
  },
  {
   "cell_type": "code",
   "execution_count": 7,
   "metadata": {},
   "outputs": [],
   "source": [
    "Path('Processed_data/RNN').mkdir(parents=True, exist_ok=True)"
   ]
  },
  {
   "cell_type": "code",
   "execution_count": 8,
   "metadata": {},
   "outputs": [],
   "source": [
    "with open('Processed_data/sec3_subtr_trim', 'wb') as f:\n",
    "    pickle.dump(sec3_subtracks, f)"
   ]
  },
  {
   "cell_type": "markdown",
   "metadata": {},
   "source": [
    "The pandas dataframe \"data\" stores for each row the track id, the label and the array of the splitted tracks"
   ]
  },
  {
   "cell_type": "code",
   "execution_count": 9,
   "metadata": {},
   "outputs": [],
   "source": [
    "sec3_track_id = []\n",
    "label = []\n",
    "\n",
    "for dir in os.listdir('Data/genres_original'):\n",
    "\n",
    "    for i in range(1000):\n",
    "\n",
    "        sec3_track_id.append(f'{dir}_{i}')\n",
    "        label.append(f'{dir}')"
   ]
  },
  {
   "cell_type": "code",
   "execution_count": 10,
   "metadata": {
    "tags": [
     "parameters"
    ]
   },
   "outputs": [],
   "source": [
    "data = pd.DataFrame()\n",
    "data['sec3_track_id'] = sec3_track_id\n",
    "data['label'] = label\n",
    "data['sec3_subtracks'] = sec3_subtr_trim"
   ]
  },
  {
   "cell_type": "code",
   "execution_count": 11,
   "metadata": {},
   "outputs": [],
   "source": [
    "with open('Processed_data/data_id_lab_subt', 'wb') as f:\n",
    "    pickle.dump(data, f)"
   ]
  },
  {
   "cell_type": "code",
   "execution_count": 12,
   "metadata": {},
   "outputs": [],
   "source": [
    "with open('Processed_data/data_id_lab_subt', 'rb') as f:\n",
    "    data = pickle.load(f)"
   ]
  },
  {
   "cell_type": "code",
   "execution_count": 13,
   "metadata": {},
   "outputs": [
    {
     "data": {
      "text/html": [
       "<div>\n",
       "<style scoped>\n",
       "    .dataframe tbody tr th:only-of-type {\n",
       "        vertical-align: middle;\n",
       "    }\n",
       "\n",
       "    .dataframe tbody tr th {\n",
       "        vertical-align: top;\n",
       "    }\n",
       "\n",
       "    .dataframe thead th {\n",
       "        text-align: right;\n",
       "    }\n",
       "</style>\n",
       "<table border=\"1\" class=\"dataframe\">\n",
       "  <thead>\n",
       "    <tr style=\"text-align: right;\">\n",
       "      <th></th>\n",
       "      <th>sec3_track_id</th>\n",
       "      <th>label</th>\n",
       "      <th>sec3_subtracks</th>\n",
       "    </tr>\n",
       "  </thead>\n",
       "  <tbody>\n",
       "    <tr>\n",
       "      <th>0</th>\n",
       "      <td>reggae_0</td>\n",
       "      <td>reggae</td>\n",
       "      <td>[-0.032226562, -0.04006958, -0.10153198, -0.14...</td>\n",
       "    </tr>\n",
       "    <tr>\n",
       "      <th>1</th>\n",
       "      <td>reggae_1</td>\n",
       "      <td>reggae</td>\n",
       "      <td>[0.21435547, 0.19308472, 0.19226074, 0.2298278...</td>\n",
       "    </tr>\n",
       "    <tr>\n",
       "      <th>2</th>\n",
       "      <td>reggae_2</td>\n",
       "      <td>reggae</td>\n",
       "      <td>[0.0730896, 0.06726074, 0.055755615, 0.0475769...</td>\n",
       "    </tr>\n",
       "    <tr>\n",
       "      <th>3</th>\n",
       "      <td>reggae_3</td>\n",
       "      <td>reggae</td>\n",
       "      <td>[-0.09701538, -0.079589844, -0.049835205, -0.0...</td>\n",
       "    </tr>\n",
       "    <tr>\n",
       "      <th>4</th>\n",
       "      <td>reggae_4</td>\n",
       "      <td>reggae</td>\n",
       "      <td>[-0.027557373, -0.061676025, -0.09249878, -0.1...</td>\n",
       "    </tr>\n",
       "    <tr>\n",
       "      <th>...</th>\n",
       "      <td>...</td>\n",
       "      <td>...</td>\n",
       "      <td>...</td>\n",
       "    </tr>\n",
       "    <tr>\n",
       "      <th>9995</th>\n",
       "      <td>rock_995</td>\n",
       "      <td>rock</td>\n",
       "      <td>[-0.11187744, -0.103637695, -0.08721924, -0.05...</td>\n",
       "    </tr>\n",
       "    <tr>\n",
       "      <th>9996</th>\n",
       "      <td>rock_996</td>\n",
       "      <td>rock</td>\n",
       "      <td>[-0.009063721, 0.0043029785, 0.0033874512, -0....</td>\n",
       "    </tr>\n",
       "    <tr>\n",
       "      <th>9997</th>\n",
       "      <td>rock_997</td>\n",
       "      <td>rock</td>\n",
       "      <td>[-0.041290283, -0.060668945, -0.06274414, -0.0...</td>\n",
       "    </tr>\n",
       "    <tr>\n",
       "      <th>9998</th>\n",
       "      <td>rock_998</td>\n",
       "      <td>rock</td>\n",
       "      <td>[0.08023071, 0.069732666, 0.03161621, 0.001800...</td>\n",
       "    </tr>\n",
       "    <tr>\n",
       "      <th>9999</th>\n",
       "      <td>rock_999</td>\n",
       "      <td>rock</td>\n",
       "      <td>[0.59295654, 0.6508484, 0.6373291, 0.51119995,...</td>\n",
       "    </tr>\n",
       "  </tbody>\n",
       "</table>\n",
       "<p>10000 rows × 3 columns</p>\n",
       "</div>"
      ],
      "text/plain": [
       "     sec3_track_id   label                                     sec3_subtracks\n",
       "0         reggae_0  reggae  [-0.032226562, -0.04006958, -0.10153198, -0.14...\n",
       "1         reggae_1  reggae  [0.21435547, 0.19308472, 0.19226074, 0.2298278...\n",
       "2         reggae_2  reggae  [0.0730896, 0.06726074, 0.055755615, 0.0475769...\n",
       "3         reggae_3  reggae  [-0.09701538, -0.079589844, -0.049835205, -0.0...\n",
       "4         reggae_4  reggae  [-0.027557373, -0.061676025, -0.09249878, -0.1...\n",
       "...            ...     ...                                                ...\n",
       "9995      rock_995    rock  [-0.11187744, -0.103637695, -0.08721924, -0.05...\n",
       "9996      rock_996    rock  [-0.009063721, 0.0043029785, 0.0033874512, -0....\n",
       "9997      rock_997    rock  [-0.041290283, -0.060668945, -0.06274414, -0.0...\n",
       "9998      rock_998    rock  [0.08023071, 0.069732666, 0.03161621, 0.001800...\n",
       "9999      rock_999    rock  [0.59295654, 0.6508484, 0.6373291, 0.51119995,...\n",
       "\n",
       "[10000 rows x 3 columns]"
      ]
     },
     "execution_count": 13,
     "metadata": {},
     "output_type": "execute_result"
    }
   ],
   "source": [
    "data"
   ]
  },
  {
   "cell_type": "markdown",
   "metadata": {},
   "source": [
    "We compute the Mel Frequency C Coef. for each splitted track. It will be the feature to feed the network with"
   ]
  },
  {
   "cell_type": "code",
   "execution_count": 14,
   "metadata": {},
   "outputs": [],
   "source": [
    "sec3_mfcc = []\n",
    "\n",
    "for i in range(len(data['sec3_subtracks'])):\n",
    "    \n",
    "    sec3_mfcc.append(lr.feature.mfcc(y=data['sec3_subtracks'][i]))"
   ]
  },
  {
   "cell_type": "code",
   "execution_count": 15,
   "metadata": {},
   "outputs": [],
   "source": [
    "with open('Processed_data/sec3_mfcc', 'wb') as f: \n",
    "    pickle.dump(sec3_mfcc, f)"
   ]
  },
  {
   "cell_type": "code",
   "execution_count": 29,
   "metadata": {},
   "outputs": [],
   "source": [
    "with open('Processed_data/sec3_mfcc', 'rb') as f:\n",
    "    sec3_mfcc = pickle.load(f)"
   ]
  },
  {
   "cell_type": "markdown",
   "metadata": {},
   "source": [
    "We store the MFCC matrices of all the splitted tracks into a torch tensor"
   ]
  },
  {
   "cell_type": "code",
   "execution_count": 53,
   "metadata": {},
   "outputs": [],
   "source": [
    "sec3_mfcc = np.array(sec3_mfcc, dtype='float32')"
   ]
  },
  {
   "cell_type": "code",
   "execution_count": 54,
   "metadata": {},
   "outputs": [
    {
     "data": {
      "text/plain": [
       "array([[[-1.56633469e+02, -1.33367889e+02, -1.39206039e+02, ...,\n",
       "         -1.44449280e+02, -1.28173401e+02, -8.38209229e+01],\n",
       "        [ 8.99109955e+01,  8.10478134e+01,  7.56077728e+01, ...,\n",
       "          1.40013794e+02,  1.42508011e+02,  1.47811050e+02],\n",
       "        [-1.12580223e+01, -1.61380520e+01, -2.28871708e+01, ...,\n",
       "         -2.22124405e+01, -2.75480938e+01, -2.42408142e+01],\n",
       "        ...,\n",
       "        [-5.07146716e-01,  2.88926220e+00,  2.07513070e+00, ...,\n",
       "          7.74147129e+00,  9.17504501e+00,  8.69198990e+00],\n",
       "        [ 2.54116678e+00,  2.57748342e+00,  1.11375213e+00, ...,\n",
       "         -6.90002346e+00,  4.45707369e+00,  3.92933488e+00],\n",
       "        [ 1.27012711e+01,  9.80611420e+00,  8.47084713e+00, ...,\n",
       "         -3.76476145e+00, -1.04964161e+01, -1.40705185e+01]],\n",
       "\n",
       "       [[-6.72216034e+01, -3.35364990e+01, -2.61048870e+01, ...,\n",
       "         -2.31013382e+02, -2.31684113e+02, -2.13891205e+02],\n",
       "        [ 1.28638245e+02,  1.32421082e+02,  1.22773026e+02, ...,\n",
       "          1.17961601e+02,  1.15471970e+02,  1.28534760e+02],\n",
       "        [-2.83304768e+01, -4.46343803e+01, -4.64524918e+01, ...,\n",
       "         -5.36626935e-01, -5.11828613e+00, -1.49653988e+01],\n",
       "        ...,\n",
       "        [ 3.55871725e+00, -1.00241601e-01, -2.05639958e+00, ...,\n",
       "         -2.97069454e+00, -1.05594087e+00, -2.05692172e-01],\n",
       "        [-6.40872717e+00,  1.13983369e+00,  1.04298229e+01, ...,\n",
       "          4.79197836e+00,  5.94341373e+00,  4.26072216e+00],\n",
       "        [-2.91746235e+00,  5.27609587e-02,  1.39898705e+00, ...,\n",
       "          3.20792389e+00,  3.45465422e+00,  3.98107767e+00]],\n",
       "\n",
       "       [[-2.26794678e+02, -2.00710617e+02, -2.05704758e+02, ...,\n",
       "         -7.37900085e+01, -8.26095352e+01, -7.17073135e+01],\n",
       "        [ 1.14032516e+02,  1.12748405e+02,  1.09359932e+02, ...,\n",
       "          1.20991882e+02,  1.21320969e+02,  1.21552048e+02],\n",
       "        [ 2.10741405e+01,  1.98597870e+01,  2.21332550e+01, ...,\n",
       "         -5.91037674e+01, -5.47887573e+01, -5.07511139e+01],\n",
       "        ...,\n",
       "        [ 1.03373766e+00, -7.60047007e+00, -1.45890322e+01, ...,\n",
       "         -1.57423019e+00, -1.38072562e+00, -3.61378527e+00],\n",
       "        [ 1.22049055e+01,  1.12898045e+01,  1.34960804e+01, ...,\n",
       "         -1.30815248e+01, -1.24093161e+01, -1.37056236e+01],\n",
       "        [-1.52709055e+00,  2.93722463e+00, -2.30630445e+00, ...,\n",
       "          1.85914683e+00,  3.13522029e+00,  7.37919807e-02]],\n",
       "\n",
       "       ...,\n",
       "\n",
       "       [[-1.70000183e+02, -1.31320068e+02, -8.10168839e+01, ...,\n",
       "         -8.80521393e+01, -1.06693916e+02, -1.14060219e+02],\n",
       "        [ 9.26835022e+01,  9.63392029e+01,  9.56425629e+01, ...,\n",
       "          1.01912498e+02,  1.02705063e+02,  1.00454514e+02],\n",
       "        [-2.36659966e+01, -1.58214626e+01, -8.53522301e+00, ...,\n",
       "         -2.73268108e+01, -1.85507698e+01, -2.36209335e+01],\n",
       "        ...,\n",
       "        [-5.79368877e+00, -7.70529270e+00, -5.98781872e+00, ...,\n",
       "         -3.70101500e+00, -4.96079350e+00,  2.14872837e-01],\n",
       "        [-3.59923124e-01, -4.63543606e+00, -3.29343081e+00, ...,\n",
       "         -3.72866917e+00, -8.44668388e+00, -1.18455534e+01],\n",
       "        [ 4.69673538e+00,  2.51258397e+00, -4.90753460e+00, ...,\n",
       "         -1.62664914e+00, -2.41950130e+00, -3.70535612e+00]],\n",
       "\n",
       "       [[-1.09255569e+02, -2.83000298e+01, -6.26651335e+00, ...,\n",
       "         -1.57206940e+02, -4.00976143e+01,  7.00382280e+00],\n",
       "        [ 9.88416595e+01,  9.92571564e+01,  9.12345276e+01, ...,\n",
       "          8.12544861e+01,  8.91360931e+01,  8.20865936e+01],\n",
       "        [-3.22401505e+01, -2.36895256e+01, -1.01102352e+01, ...,\n",
       "         -1.35861416e+01, -2.69475765e+01, -1.78363342e+01],\n",
       "        ...,\n",
       "        [-1.58199680e+00, -3.12919092e+00, -3.11623287e+00, ...,\n",
       "          2.30056953e+00, -8.75154877e+00, -6.63696957e+00],\n",
       "        [-1.18088531e+01, -4.91172314e+00, -1.41520178e+00, ...,\n",
       "         -6.04220009e+00, -4.19466496e+00, -7.79300928e-03],\n",
       "        [-6.86291456e+00, -6.81465816e+00, -4.80733013e+00, ...,\n",
       "         -5.42167091e+00, -3.58038521e+00, -3.40171337e-01]],\n",
       "\n",
       "       [[-8.06847763e+00,  2.18646717e+01,  2.80203571e+01, ...,\n",
       "          6.82536173e+00, -9.83793926e+00, -3.55534515e+01],\n",
       "        [ 7.02647247e+01,  6.13659058e+01,  4.93029137e+01, ...,\n",
       "          5.87343597e+01,  6.23192444e+01,  6.11353226e+01],\n",
       "        [-2.62343407e+00, -6.36701202e+00, -1.70796239e+00, ...,\n",
       "          1.12816753e+01,  1.22034082e+01,  1.03767242e+01],\n",
       "        ...,\n",
       "        [ 3.28829861e+00,  1.46726584e+00, -3.35290933e+00, ...,\n",
       "         -4.58353519e+00, -4.34823895e+00, -7.10889697e-01],\n",
       "        [ 4.94810581e+00, -1.58299804e+00, -6.88257933e+00, ...,\n",
       "         -2.50655603e+00,  1.46205807e+00, -1.61102617e+00],\n",
       "        [-6.80901432e+00, -1.07672749e+01, -7.77412796e+00, ...,\n",
       "         -4.58381557e+00, -9.28143263e-01, -2.03668046e+00]]],\n",
       "      dtype=float32)"
      ]
     },
     "execution_count": 54,
     "metadata": {},
     "output_type": "execute_result"
    }
   ],
   "source": [
    "sec3_mfcc"
   ]
  },
  {
   "cell_type": "code",
   "execution_count": 19,
   "metadata": {},
   "outputs": [],
   "source": [
    "# sec3_mfcc = torch.tensor(sec3_mfcc)"
   ]
  },
  {
   "cell_type": "markdown",
   "metadata": {},
   "source": [
    "We create the target array encoding the labels with One Hot method"
   ]
  },
  {
   "cell_type": "code",
   "execution_count": 58,
   "metadata": {},
   "outputs": [
    {
     "data": {
      "text/plain": [
       "array([8, 8, 8, ..., 9, 9, 9])"
      ]
     },
     "execution_count": 58,
     "metadata": {},
     "output_type": "execute_result"
    }
   ],
   "source": [
    "labels = np.array(data['label'])\n",
    "le = preprocessing.LabelEncoder()\n",
    "target = le.fit_transform(labels)\n",
    "#target_one_hot = tf.one_hot(target.to(torch.int64), 10)\n",
    "\n",
    "y = target\n",
    "\n",
    "y"
   ]
  },
  {
   "cell_type": "code",
   "execution_count": 60,
   "metadata": {},
   "outputs": [
    {
     "data": {
      "text/plain": [
       "dtype('int64')"
      ]
     },
     "execution_count": 60,
     "metadata": {},
     "output_type": "execute_result"
    }
   ],
   "source": [
    "y.dtype"
   ]
  },
  {
   "cell_type": "code",
   "execution_count": 61,
   "metadata": {},
   "outputs": [],
   "source": [
    "scaler = StandardScaler()\n",
    "#sec3_mfcc_scaled = scaler.fit_transform(sec3_mfcc)\n",
    "\n",
    "sec3_mfcc_scaled = [None]*len(sec3_mfcc)\n",
    "for i in range(len(sec3_mfcc)):\n",
    "    sec3_mfcc_scaled[i] = scaler.fit_transform(sec3_mfcc[i])"
   ]
  },
  {
   "cell_type": "code",
   "execution_count": 62,
   "metadata": {},
   "outputs": [
    {
     "data": {
      "text/plain": [
       "10000"
      ]
     },
     "execution_count": 62,
     "metadata": {},
     "output_type": "execute_result"
    }
   ],
   "source": [
    "len(y)"
   ]
  },
  {
   "cell_type": "code",
   "execution_count": 63,
   "metadata": {},
   "outputs": [
    {
     "data": {
      "text/plain": [
       "10000"
      ]
     },
     "execution_count": 63,
     "metadata": {},
     "output_type": "execute_result"
    }
   ],
   "source": [
    "len(sec3_mfcc_scaled)"
   ]
  },
  {
   "cell_type": "code",
   "execution_count": 70,
   "metadata": {},
   "outputs": [
    {
     "data": {
      "text/plain": [
       "dtype('float32')"
      ]
     },
     "execution_count": 70,
     "metadata": {},
     "output_type": "execute_result"
    }
   ],
   "source": [
    "sec3_mfcc_scaled[0].dtype"
   ]
  },
  {
   "cell_type": "code",
   "execution_count": 71,
   "metadata": {},
   "outputs": [],
   "source": [
    "data_ok = []\n",
    "\n",
    "for i in range(len(sec3_mfcc_scaled)):\n",
    "\n",
    "    data_ok.append([sec3_mfcc_scaled[i].astype('float32'), y[i]])"
   ]
  },
  {
   "cell_type": "code",
   "execution_count": 72,
   "metadata": {},
   "outputs": [
    {
     "data": {
      "text/plain": [
       "10000"
      ]
     },
     "execution_count": 72,
     "metadata": {},
     "output_type": "execute_result"
    }
   ],
   "source": [
    "len(data_ok)"
   ]
  },
  {
   "cell_type": "code",
   "execution_count": 73,
   "metadata": {},
   "outputs": [
    {
     "data": {
      "text/plain": [
       "dtype('float32')"
      ]
     },
     "execution_count": 73,
     "metadata": {},
     "output_type": "execute_result"
    }
   ],
   "source": [
    "data_ok[0][0].dtype"
   ]
  },
  {
   "cell_type": "code",
   "execution_count": 74,
   "metadata": {},
   "outputs": [
    {
     "data": {
      "text/plain": [
       "2"
      ]
     },
     "execution_count": 74,
     "metadata": {},
     "output_type": "execute_result"
    }
   ],
   "source": [
    "len(data_ok[0])"
   ]
  },
  {
   "cell_type": "code",
   "execution_count": 75,
   "metadata": {},
   "outputs": [
    {
     "data": {
      "text/plain": [
       "(20, 129)"
      ]
     },
     "execution_count": 75,
     "metadata": {},
     "output_type": "execute_result"
    }
   ],
   "source": [
    "data_ok[0][0].shape"
   ]
  },
  {
   "cell_type": "code",
   "execution_count": 76,
   "metadata": {},
   "outputs": [],
   "source": [
    "data_train, data_test = train_test_split(\n",
    "    data_ok, test_size=0.2, random_state=42)"
   ]
  },
  {
   "cell_type": "code",
   "execution_count": 77,
   "metadata": {},
   "outputs": [
    {
     "data": {
      "text/plain": [
       "8000"
      ]
     },
     "execution_count": 77,
     "metadata": {},
     "output_type": "execute_result"
    }
   ],
   "source": [
    "len(data_train)"
   ]
  },
  {
   "cell_type": "code",
   "execution_count": 80,
   "metadata": {},
   "outputs": [
    {
     "data": {
      "text/plain": [
       "dtype('float32')"
      ]
     },
     "execution_count": 80,
     "metadata": {},
     "output_type": "execute_result"
    }
   ],
   "source": [
    "data_train[0][0].dtype"
   ]
  },
  {
   "cell_type": "code",
   "execution_count": 87,
   "metadata": {},
   "outputs": [
    {
     "data": {
      "text/plain": [
       "dtype('float32')"
      ]
     },
     "execution_count": 87,
     "metadata": {},
     "output_type": "execute_result"
    }
   ],
   "source": [
    "data_test[0][0].dtype"
   ]
  },
  {
   "cell_type": "code",
   "execution_count": 88,
   "metadata": {},
   "outputs": [
    {
     "data": {
      "text/plain": [
       "2"
      ]
     },
     "execution_count": 88,
     "metadata": {},
     "output_type": "execute_result"
    }
   ],
   "source": [
    "len(data_train[0])"
   ]
  },
  {
   "cell_type": "code",
   "execution_count": 89,
   "metadata": {},
   "outputs": [
    {
     "data": {
      "text/plain": [
       "(20, 129)"
      ]
     },
     "execution_count": 89,
     "metadata": {},
     "output_type": "execute_result"
    }
   ],
   "source": [
    "data_train[0][0].shape"
   ]
  },
  {
   "cell_type": "code",
   "execution_count": 90,
   "metadata": {},
   "outputs": [
    {
     "data": {
      "text/plain": [
       "67224"
      ]
     },
     "execution_count": 90,
     "metadata": {},
     "output_type": "execute_result"
    }
   ],
   "source": [
    "sys.getsizeof(data_train)"
   ]
  },
  {
   "cell_type": "code",
   "execution_count": 91,
   "metadata": {},
   "outputs": [
    {
     "data": {
      "text/plain": [
       "85176"
      ]
     },
     "execution_count": 91,
     "metadata": {},
     "output_type": "execute_result"
    }
   ],
   "source": [
    "sys.getsizeof(data_ok)"
   ]
  },
  {
   "cell_type": "code",
   "execution_count": 92,
   "metadata": {},
   "outputs": [
    {
     "data": {
      "text/plain": [
       "2000"
      ]
     },
     "execution_count": 92,
     "metadata": {},
     "output_type": "execute_result"
    }
   ],
   "source": [
    "len(data_test)"
   ]
  },
  {
   "cell_type": "code",
   "execution_count": 93,
   "metadata": {},
   "outputs": [],
   "source": [
    "with open('Processed_data/RNN/data_train', 'wb') as f: \n",
    "    pickle.dump(data_train, f)"
   ]
  },
  {
   "cell_type": "code",
   "execution_count": 94,
   "metadata": {},
   "outputs": [
    {
     "ename": "",
     "evalue": "",
     "output_type": "error",
     "traceback": [
      "\u001b[1;31mThe Kernel crashed while executing code in the the current cell or a previous cell. Please review the code in the cell(s) to identify a possible cause of the failure. Click <a href='https://aka.ms/vscodeJupyterKernelCrash'>here</a> for more info. View Jupyter <a href='command:jupyter.viewOutput'>log</a> for further details."
     ]
    }
   ],
   "source": [
    "with open('Processed_data/RNN/data_test', 'wb') as f: \n",
    "    pickle.dump(data_test, f)"
   ]
  },
  {
   "cell_type": "code",
   "execution_count": null,
   "metadata": {},
   "outputs": [],
   "source": []
  }
 ],
 "metadata": {
  "kernelspec": {
   "display_name": "Python 3 (ipykernel)",
   "language": "python",
   "name": "python3"
  },
  "language_info": {
   "codemirror_mode": {
    "name": "ipython",
    "version": 3
   },
   "file_extension": ".py",
   "mimetype": "text/x-python",
   "name": "python",
   "nbconvert_exporter": "python",
   "pygments_lexer": "ipython3",
   "version": "3.9.12"
  },
  "vscode": {
   "interpreter": {
    "hash": "d790fb20b6fae2e1b6718372c6237e86c2aea3e82a0d3ea3895ed3571041fb36"
   }
  }
 },
 "nbformat": 4,
 "nbformat_minor": 2
}
