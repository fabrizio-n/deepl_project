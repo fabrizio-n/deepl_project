{
 "cells": [
  {
   "cell_type": "markdown",
   "metadata": {},
   "source": [
    "# Music Genre Classification\n",
    "\n",
    "## Data Pre-Processing for Recurrent Neural Network\n",
    "\n",
    "Fabrizio Niro - Jacopo Signò\n",
    "\n",
    "GTZAN Dataset - Music Genre Classification \n",
    "\n",
    "https://www.kaggle.com/datasets/andradaolteanu/gtzan-dataset-music-genre-classification"
   ]
  },
  {
   "cell_type": "code",
   "execution_count": 12,
   "metadata": {},
   "outputs": [],
   "source": [
    "import librosa as lr\n",
    "import pandas as pd\n",
    "import numpy as np\n",
    "import IPython.display as ipyd\n",
    "import math\n",
    "import os\n",
    "import pickle\n",
    "import torch\n",
    "import sklearn\n",
    "import torch.nn.functional as tf\n",
    "from sklearn import preprocessing"
   ]
  },
  {
   "cell_type": "markdown",
   "metadata": {},
   "source": [
    "The function \"tracksplit\" splits the audio track, loaded into an array, in n subtracks"
   ]
  },
  {
   "cell_type": "code",
   "execution_count": 106,
   "metadata": {},
   "outputs": [],
   "source": [
    "def tracksplit(track, nsplit = 10):\n",
    "    #splits a track in n subtracks of equal length\n",
    "    length = len(y) // nsplit\n",
    "    subtracks = []\n",
    "    acc = 0\n",
    "\n",
    "    for i in range(nsplit):\n",
    "        subtracks.append(y[acc:acc+length])\n",
    "        acc += length\n",
    "\n",
    "    return subtracks"
   ]
  },
  {
   "cell_type": "markdown",
   "metadata": {},
   "source": [
    "We iterate through the dataset structure to split all the audio tracks into 10 tracks of 3 seconds length"
   ]
  },
  {
   "cell_type": "code",
   "execution_count": null,
   "metadata": {},
   "outputs": [],
   "source": [
    "sec3_subtracks = []\n",
    "\n",
    "for directory in os.listdir('Data/genres_original'):\n",
    "\n",
    "    for file in os.listdir('Data/genres_original/{}'.format(directory)):\n",
    "\n",
    "        try:\n",
    "            subtrack, _ = lr.load('Data/genres_original/{}/{}'.format(directory, file))\n",
    "\n",
    "        except:\n",
    "            subtrack, _ = lr.load('Data/genres_original/{}/{}{}'.format(directory, file[:-5], '0.wav'))\n",
    "\n",
    "        for subtr in tracksplit(subtrack):\n",
    "\n",
    "            sec3_subtracks.append(subtr)"
   ]
  },
  {
   "cell_type": "code",
   "execution_count": null,
   "metadata": {},
   "outputs": [],
   "source": [
    "with open('sec3_subtracks', 'wb') as f:\n",
    "    pickle.dump(sec3_subtracks, f)"
   ]
  },
  {
   "cell_type": "code",
   "execution_count": 5,
   "metadata": {},
   "outputs": [],
   "source": [
    "with open('sec3_subtracks', 'rb') as f:\n",
    "    sec3_subtracks = pickle.load(f)"
   ]
  },
  {
   "cell_type": "markdown",
   "metadata": {},
   "source": [
    "The pandas dataframe \"data\" stores for each row the track id, the label and the array of the splitted tracks"
   ]
  },
  {
   "cell_type": "code",
   "execution_count": 32,
   "metadata": {},
   "outputs": [],
   "source": [
    "sec3_track_id = []\n",
    "label = []\n",
    "\n",
    "for dir in os.listdir('Data/genres_original'):\n",
    "\n",
    "    for i in range(1000):\n",
    "\n",
    "        sec3_track_id.append(f'{dir}_{i}')\n",
    "        label.append(f'{dir}')"
   ]
  },
  {
   "cell_type": "code",
   "execution_count": 37,
   "metadata": {},
   "outputs": [],
   "source": [
    "data = pd.DataFrame()\n",
    "data['sec3_track_id'] = sec3_track_id\n",
    "data['label'] = label\n",
    "data['sec3_subtracks'] = sec3_subtracks"
   ]
  },
  {
   "cell_type": "code",
   "execution_count": 65,
   "metadata": {},
   "outputs": [],
   "source": [
    "with open('data_id_lab_subt', 'wb') as f:\n",
    "    pickle.dump(data, f)"
   ]
  },
  {
   "cell_type": "code",
   "execution_count": 4,
   "metadata": {},
   "outputs": [],
   "source": [
    "with open('data_id_lab_subt', 'rb') as f:\n",
    "    data = pickle.load(f)"
   ]
  },
  {
   "cell_type": "code",
   "execution_count": 5,
   "metadata": {},
   "outputs": [
    {
     "data": {
      "text/html": [
       "<div>\n",
       "<style scoped>\n",
       "    .dataframe tbody tr th:only-of-type {\n",
       "        vertical-align: middle;\n",
       "    }\n",
       "\n",
       "    .dataframe tbody tr th {\n",
       "        vertical-align: top;\n",
       "    }\n",
       "\n",
       "    .dataframe thead th {\n",
       "        text-align: right;\n",
       "    }\n",
       "</style>\n",
       "<table border=\"1\" class=\"dataframe\">\n",
       "  <thead>\n",
       "    <tr style=\"text-align: right;\">\n",
       "      <th></th>\n",
       "      <th>sec3_track_id</th>\n",
       "      <th>label</th>\n",
       "      <th>sec3_subtracks</th>\n",
       "    </tr>\n",
       "  </thead>\n",
       "  <tbody>\n",
       "    <tr>\n",
       "      <th>0</th>\n",
       "      <td>blues_0</td>\n",
       "      <td>blues</td>\n",
       "      <td>[0.0073242188, 0.016601562, 0.0076293945, -0.0...</td>\n",
       "    </tr>\n",
       "    <tr>\n",
       "      <th>1</th>\n",
       "      <td>blues_1</td>\n",
       "      <td>blues</td>\n",
       "      <td>[-0.072753906, -0.055389404, -0.036102295, -0....</td>\n",
       "    </tr>\n",
       "    <tr>\n",
       "      <th>2</th>\n",
       "      <td>blues_2</td>\n",
       "      <td>blues</td>\n",
       "      <td>[0.06997681, 0.14709473, 0.2263794, 0.28271484...</td>\n",
       "    </tr>\n",
       "    <tr>\n",
       "      <th>3</th>\n",
       "      <td>blues_3</td>\n",
       "      <td>blues</td>\n",
       "      <td>[-0.31854248, -0.2897339, -0.25097656, -0.2348...</td>\n",
       "    </tr>\n",
       "    <tr>\n",
       "      <th>4</th>\n",
       "      <td>blues_4</td>\n",
       "      <td>blues</td>\n",
       "      <td>[0.19113159, 0.12878418, 0.06561279, -0.004669...</td>\n",
       "    </tr>\n",
       "    <tr>\n",
       "      <th>...</th>\n",
       "      <td>...</td>\n",
       "      <td>...</td>\n",
       "      <td>...</td>\n",
       "    </tr>\n",
       "    <tr>\n",
       "      <th>9995</th>\n",
       "      <td>rock_995</td>\n",
       "      <td>rock</td>\n",
       "      <td>[0.21447754, 0.15588379, 0.11029053, 0.0905761...</td>\n",
       "    </tr>\n",
       "    <tr>\n",
       "      <th>9996</th>\n",
       "      <td>rock_996</td>\n",
       "      <td>rock</td>\n",
       "      <td>[-0.018249512, -0.04788208, -0.003479004, 0.05...</td>\n",
       "    </tr>\n",
       "    <tr>\n",
       "      <th>9997</th>\n",
       "      <td>rock_997</td>\n",
       "      <td>rock</td>\n",
       "      <td>[-0.011993408, -0.01550293, -0.0074157715, -0....</td>\n",
       "    </tr>\n",
       "    <tr>\n",
       "      <th>9998</th>\n",
       "      <td>rock_998</td>\n",
       "      <td>rock</td>\n",
       "      <td>[0.0814209, -0.0018310547, -0.0687561, -0.1164...</td>\n",
       "    </tr>\n",
       "    <tr>\n",
       "      <th>9999</th>\n",
       "      <td>rock_999</td>\n",
       "      <td>rock</td>\n",
       "      <td>[-0.12936401, -0.12509155, -0.15542603, -0.188...</td>\n",
       "    </tr>\n",
       "  </tbody>\n",
       "</table>\n",
       "<p>10000 rows × 3 columns</p>\n",
       "</div>"
      ],
      "text/plain": [
       "     sec3_track_id  label                                     sec3_subtracks\n",
       "0          blues_0  blues  [0.0073242188, 0.016601562, 0.0076293945, -0.0...\n",
       "1          blues_1  blues  [-0.072753906, -0.055389404, -0.036102295, -0....\n",
       "2          blues_2  blues  [0.06997681, 0.14709473, 0.2263794, 0.28271484...\n",
       "3          blues_3  blues  [-0.31854248, -0.2897339, -0.25097656, -0.2348...\n",
       "4          blues_4  blues  [0.19113159, 0.12878418, 0.06561279, -0.004669...\n",
       "...            ...    ...                                                ...\n",
       "9995      rock_995   rock  [0.21447754, 0.15588379, 0.11029053, 0.0905761...\n",
       "9996      rock_996   rock  [-0.018249512, -0.04788208, -0.003479004, 0.05...\n",
       "9997      rock_997   rock  [-0.011993408, -0.01550293, -0.0074157715, -0....\n",
       "9998      rock_998   rock  [0.0814209, -0.0018310547, -0.0687561, -0.1164...\n",
       "9999      rock_999   rock  [-0.12936401, -0.12509155, -0.15542603, -0.188...\n",
       "\n",
       "[10000 rows x 3 columns]"
      ]
     },
     "execution_count": 5,
     "metadata": {},
     "output_type": "execute_result"
    }
   ],
   "source": [
    "data"
   ]
  },
  {
   "cell_type": "markdown",
   "metadata": {},
   "source": [
    "We compute the Mel Frequency C Coef. for each splitted track. It will be the feature to feed the network with"
   ]
  },
  {
   "cell_type": "code",
   "execution_count": null,
   "metadata": {},
   "outputs": [],
   "source": [
    "sec3_mfcc = []\n",
    "\n",
    "for i in range(len(data['sec3_subtracks'])):\n",
    "    \n",
    "    sec3_mfcc.append(lr.feature.mfcc(y=data['sec3_subtracks'][i]))"
   ]
  },
  {
   "cell_type": "code",
   "execution_count": 57,
   "metadata": {},
   "outputs": [],
   "source": [
    "with open('sec3_mfcc', 'wb') as f: \n",
    "    pickle.dump(sec3_mfcc, f)"
   ]
  },
  {
   "cell_type": "code",
   "execution_count": 26,
   "metadata": {},
   "outputs": [],
   "source": [
    "with open('sec3_mfcc', 'rb') as f:\n",
    "    sec3_mfcc = pickle.load(f)"
   ]
  },
  {
   "cell_type": "markdown",
   "metadata": {},
   "source": [
    "We store the MFCC matrices of all the splitted tracks into a torch tensor"
   ]
  },
  {
   "cell_type": "code",
   "execution_count": 29,
   "metadata": {},
   "outputs": [],
   "source": [
    "sec3_mfcc = np.array(sec3_mfcc)\n",
    "sec3_mfcc_tens = torch.tensor(sec3_mfcc)"
   ]
  },
  {
   "cell_type": "code",
   "execution_count": 30,
   "metadata": {},
   "outputs": [],
   "source": [
    "with open('Processed_data/RNN/sec3_mfcc_tens', 'wb') as f: \n",
    "    pickle.dump(sec3_mfcc_tens, f)"
   ]
  },
  {
   "cell_type": "code",
   "execution_count": 31,
   "metadata": {},
   "outputs": [],
   "source": [
    "with open('Processed_data/RNN/sec3_mfcc_tens', 'rb') as f:\n",
    "    sec3_mfcc_tens = pickle.load(f)"
   ]
  },
  {
   "cell_type": "code",
   "execution_count": 32,
   "metadata": {},
   "outputs": [
    {
     "data": {
      "text/plain": [
       "torch.Size([10000, 20, 130])"
      ]
     },
     "execution_count": 32,
     "metadata": {},
     "output_type": "execute_result"
    }
   ],
   "source": [
    "sec3_mfcc_tens.shape"
   ]
  },
  {
   "cell_type": "markdown",
   "metadata": {},
   "source": [
    "We create the target array encoding the labels with One Hot method"
   ]
  },
  {
   "cell_type": "code",
   "execution_count": 33,
   "metadata": {},
   "outputs": [
    {
     "data": {
      "text/plain": [
       "\"labels = np.array(data['label'])\\nle = preprocessing.LabelEncoder()\\ntarget = le.fit_transform(labels)\\ntarget = torch.tensor(target)\\ntarget.one_hot = tf.one_hot(target.to(torch.int64), 10)\""
      ]
     },
     "execution_count": 33,
     "metadata": {},
     "output_type": "execute_result"
    }
   ],
   "source": [
    "labels = np.array(data['label'])\n",
    "le = preprocessing.LabelEncoder()\n",
    "target = le.fit_transform(labels)\n",
    "target = torch.tensor(target)\n",
    "target.one_hot = tf.one_hot(target.to(torch.int64), 10)"
   ]
  },
  {
   "cell_type": "code",
   "execution_count": 34,
   "metadata": {},
   "outputs": [
    {
     "data": {
      "text/plain": [
       "tensor([[1, 0, 0,  ..., 0, 0, 0],\n",
       "        [1, 0, 0,  ..., 0, 0, 0],\n",
       "        [1, 0, 0,  ..., 0, 0, 0],\n",
       "        ...,\n",
       "        [0, 0, 0,  ..., 0, 0, 1],\n",
       "        [0, 0, 0,  ..., 0, 0, 1],\n",
       "        [0, 0, 0,  ..., 0, 0, 1]])"
      ]
     },
     "execution_count": 34,
     "metadata": {},
     "output_type": "execute_result"
    }
   ],
   "source": [
    "target.one_hot"
   ]
  },
  {
   "cell_type": "code",
   "execution_count": 35,
   "metadata": {},
   "outputs": [
    {
     "data": {
      "text/plain": [
       "\"with open('Processed_data/RNN/target.one_hot', 'wb') as f: \\n    pickle.dump(target.one_hot, f)\""
      ]
     },
     "execution_count": 35,
     "metadata": {},
     "output_type": "execute_result"
    }
   ],
   "source": [
    "with open('Processed_data/RNN/target.one_hot', 'wb') as f: \n",
    "    pickle.dump(target.one_hot, f)"
   ]
  },
  {
   "cell_type": "code",
   "execution_count": 36,
   "metadata": {},
   "outputs": [],
   "source": [
    "with open('Processed_data/RNN/target.one_hot', 'rb') as f:\n",
    "    target.one_hot = pickle.load(f)"
   ]
  },
  {
   "cell_type": "code",
   "execution_count": null,
   "metadata": {},
   "outputs": [],
   "source": []
  }
 ],
 "metadata": {
  "kernelspec": {
   "display_name": "Python 3.9.13 ('d2l')",
   "language": "python",
   "name": "python3"
  },
  "language_info": {
   "codemirror_mode": {
    "name": "ipython",
    "version": 3
   },
   "file_extension": ".py",
   "mimetype": "text/x-python",
   "name": "python",
   "nbconvert_exporter": "python",
   "pygments_lexer": "ipython3",
   "version": "3.9.13"
  },
  "orig_nbformat": 4,
  "vscode": {
   "interpreter": {
    "hash": "b6cf598af832248cfe9b39042f92a2374bbc30c7205b5dfb8694e1033392472b"
   }
  }
 },
 "nbformat": 4,
 "nbformat_minor": 2
}
