{
 "cells": [
  {
   "cell_type": "markdown",
   "metadata": {},
   "source": [
    "# Music Genre Classification\n",
    "\n",
    "## Data Pre-Processing for Recurrent NN\n",
    "\n",
    "Fabrizio Niro - Jacopo Signò\n",
    "\n",
    "GTZAN Dataset - Music Genre Classification \n",
    "\n",
    "https://www.kaggle.com/datasets/andradaolteanu/gtzan-dataset-music-genre-classification"
   ]
  },
  {
   "cell_type": "code",
   "execution_count": 1,
   "metadata": {},
   "outputs": [],
   "source": [
    "import librosa as lr\n",
    "import pandas as pd\n",
    "import numpy as np\n",
    "import IPython.display as ipyd\n",
    "from collections import Counter\n",
    "import math\n",
    "import os\n",
    "from pathlib import Path\n",
    "import pickle\n",
    "import torch\n",
    "import sklearn\n",
    "import torch.nn.functional as tf\n",
    "from sklearn import preprocessing\n",
    "from sklearn.model_selection import train_test_split\n",
    "from sklearn.preprocessing import StandardScaler\n",
    "import sys"
   ]
  },
  {
   "cell_type": "markdown",
   "metadata": {},
   "source": [
    "The function \"tracksplit\" splits the audio track, loaded into an array, in n subtracks"
   ]
  },
  {
   "cell_type": "code",
   "execution_count": 2,
   "metadata": {},
   "outputs": [],
   "source": [
    "def tracksplit(track, nsplit = 10):\n",
    "    #splits a track in n subtracks of equal length\n",
    "    length = len(track) // nsplit\n",
    "    subtracks = []\n",
    "    acc = 0\n",
    "\n",
    "    for i in range(nsplit):\n",
    "        subtracks.append(track[acc:acc+length])\n",
    "        acc += length\n",
    "\n",
    "    return subtracks"
   ]
  },
  {
   "cell_type": "markdown",
   "metadata": {},
   "source": [
    "We iterate through the dataset structure to split all the audio tracks into 10 tracks of 3 seconds length"
   ]
  },
  {
   "cell_type": "code",
   "execution_count": 3,
   "metadata": {},
   "outputs": [
    {
     "name": "stderr",
     "output_type": "stream",
     "text": [
      "/home/fabrizio/miniconda3/envs/deepl/lib/python3.9/site-packages/librosa/util/decorators.py:88: UserWarning: PySoundFile failed. Trying audioread instead.\n",
      "  return f(*args, **kwargs)\n"
     ]
    }
   ],
   "source": [
    "sec3_subtracks = []\n",
    "\n",
    "for directory in os.listdir('Data/genres_original'):\n",
    "\n",
    "    for file in os.listdir('Data/genres_original/{}'.format(directory)):\n",
    "\n",
    "        try:\n",
    "            track, _ = lr.load('Data/genres_original/{}/{}'.format(directory, file))\n",
    "\n",
    "        except:\n",
    "            track, _ = lr.load('Data/genres_original/{}/{}{}'.format(directory, file[:-5], '0.wav'))\n",
    "\n",
    "        for subtr in tracksplit(track):\n",
    "\n",
    "            sec3_subtracks.append(subtr)\n"
   ]
  },
  {
   "cell_type": "markdown",
   "metadata": {},
   "source": [
    "The length of the arrays generated starting from the .wav files differs slightly among the set. We regularize the lengths taking as proxy the minimum length found "
   ]
  },
  {
   "cell_type": "code",
   "execution_count": 4,
   "metadata": {},
   "outputs": [
    {
     "data": {
      "text/plain": [
       "dict_keys([66150, 66179, 66792, 66167, 66176, 66418, 66506, 66814, 66352, 66616, 66134, 66140, 67012, 66968, 66308, 66528, 67228, 66924, 66198, 66682, 66748, 66594, 67210, 67580, 66770, 66000, 66440, 66330, 66374, 66880, 66110, 67034, 66946])"
      ]
     },
     "execution_count": 4,
     "metadata": {},
     "output_type": "execute_result"
    }
   ],
   "source": [
    "sec3_len =[]\n",
    "for i in sec3_subtracks:\n",
    "    sec3_len.append(len(i))\n",
    "\n",
    "Counter(sec3_len).keys()"
   ]
  },
  {
   "cell_type": "code",
   "execution_count": 5,
   "metadata": {},
   "outputs": [
    {
     "data": {
      "text/plain": [
       "66000"
      ]
     },
     "execution_count": 5,
     "metadata": {},
     "output_type": "execute_result"
    }
   ],
   "source": [
    "min_len = min(Counter(sec3_len).keys())\n",
    "min_len"
   ]
  },
  {
   "cell_type": "code",
   "execution_count": 6,
   "metadata": {},
   "outputs": [
    {
     "data": {
      "text/plain": [
       "dict_keys([66000])"
      ]
     },
     "execution_count": 6,
     "metadata": {},
     "output_type": "execute_result"
    }
   ],
   "source": [
    "sec3_subtr_trim = []\n",
    "for i in sec3_subtracks:\n",
    "    sec3_subtr_trim.append(i[:min_len])\n",
    "\n",
    "sec3_len_trim =[]\n",
    "for i in sec3_subtr_trim:\n",
    "    sec3_len_trim.append(len(i))\n",
    "\n",
    "Counter(sec3_len_trim).keys()"
   ]
  },
  {
   "cell_type": "code",
   "execution_count": 7,
   "metadata": {},
   "outputs": [],
   "source": [
    "Path('Processed_data/RNN').mkdir(parents=True, exist_ok=True)"
   ]
  },
  {
   "cell_type": "code",
   "execution_count": 8,
   "metadata": {},
   "outputs": [],
   "source": [
    "with open('Processed_data/sec3_subtr_trim', 'wb') as f:\n",
    "    pickle.dump(sec3_subtracks, f)"
   ]
  },
  {
   "cell_type": "markdown",
   "metadata": {},
   "source": [
    "The pandas dataframe \"data\" stores for each row the track id, the label and the array of the splitted tracks"
   ]
  },
  {
   "cell_type": "code",
   "execution_count": 9,
   "metadata": {},
   "outputs": [],
   "source": [
    "sec3_track_id = []\n",
    "label = []\n",
    "\n",
    "for dir in os.listdir('Data/genres_original'):\n",
    "\n",
    "    for i in range(1000):\n",
    "\n",
    "        sec3_track_id.append(f'{dir}_{i}')\n",
    "        label.append(f'{dir}')"
   ]
  },
  {
   "cell_type": "code",
   "execution_count": 10,
   "metadata": {
    "tags": [
     "parameters"
    ]
   },
   "outputs": [],
   "source": [
    "data = pd.DataFrame()\n",
    "data['sec3_track_id'] = sec3_track_id\n",
    "data['label'] = label\n",
    "data['sec3_subtracks'] = sec3_subtr_trim"
   ]
  },
  {
   "cell_type": "code",
   "execution_count": 11,
   "metadata": {},
   "outputs": [],
   "source": [
    "with open('Processed_data/data_id_lab_subt', 'wb') as f:\n",
    "    pickle.dump(data, f)"
   ]
  },
  {
   "cell_type": "code",
   "execution_count": 12,
   "metadata": {},
   "outputs": [],
   "source": [
    "with open('Processed_data/data_id_lab_subt', 'rb') as f:\n",
    "    data = pickle.load(f)"
   ]
  },
  {
   "cell_type": "code",
   "execution_count": 13,
   "metadata": {},
   "outputs": [
    {
     "data": {
      "text/html": [
       "<div>\n",
       "<style scoped>\n",
       "    .dataframe tbody tr th:only-of-type {\n",
       "        vertical-align: middle;\n",
       "    }\n",
       "\n",
       "    .dataframe tbody tr th {\n",
       "        vertical-align: top;\n",
       "    }\n",
       "\n",
       "    .dataframe thead th {\n",
       "        text-align: right;\n",
       "    }\n",
       "</style>\n",
       "<table border=\"1\" class=\"dataframe\">\n",
       "  <thead>\n",
       "    <tr style=\"text-align: right;\">\n",
       "      <th></th>\n",
       "      <th>sec3_track_id</th>\n",
       "      <th>label</th>\n",
       "      <th>sec3_subtracks</th>\n",
       "    </tr>\n",
       "  </thead>\n",
       "  <tbody>\n",
       "    <tr>\n",
       "      <th>0</th>\n",
       "      <td>reggae_0</td>\n",
       "      <td>reggae</td>\n",
       "      <td>[-0.032226562, -0.04006958, -0.10153198, -0.14...</td>\n",
       "    </tr>\n",
       "    <tr>\n",
       "      <th>1</th>\n",
       "      <td>reggae_1</td>\n",
       "      <td>reggae</td>\n",
       "      <td>[0.21435547, 0.19308472, 0.19226074, 0.2298278...</td>\n",
       "    </tr>\n",
       "    <tr>\n",
       "      <th>2</th>\n",
       "      <td>reggae_2</td>\n",
       "      <td>reggae</td>\n",
       "      <td>[0.0730896, 0.06726074, 0.055755615, 0.0475769...</td>\n",
       "    </tr>\n",
       "    <tr>\n",
       "      <th>3</th>\n",
       "      <td>reggae_3</td>\n",
       "      <td>reggae</td>\n",
       "      <td>[-0.09701538, -0.079589844, -0.049835205, -0.0...</td>\n",
       "    </tr>\n",
       "    <tr>\n",
       "      <th>4</th>\n",
       "      <td>reggae_4</td>\n",
       "      <td>reggae</td>\n",
       "      <td>[-0.027557373, -0.061676025, -0.09249878, -0.1...</td>\n",
       "    </tr>\n",
       "    <tr>\n",
       "      <th>...</th>\n",
       "      <td>...</td>\n",
       "      <td>...</td>\n",
       "      <td>...</td>\n",
       "    </tr>\n",
       "    <tr>\n",
       "      <th>9995</th>\n",
       "      <td>rock_995</td>\n",
       "      <td>rock</td>\n",
       "      <td>[-0.11187744, -0.103637695, -0.08721924, -0.05...</td>\n",
       "    </tr>\n",
       "    <tr>\n",
       "      <th>9996</th>\n",
       "      <td>rock_996</td>\n",
       "      <td>rock</td>\n",
       "      <td>[-0.009063721, 0.0043029785, 0.0033874512, -0....</td>\n",
       "    </tr>\n",
       "    <tr>\n",
       "      <th>9997</th>\n",
       "      <td>rock_997</td>\n",
       "      <td>rock</td>\n",
       "      <td>[-0.041290283, -0.060668945, -0.06274414, -0.0...</td>\n",
       "    </tr>\n",
       "    <tr>\n",
       "      <th>9998</th>\n",
       "      <td>rock_998</td>\n",
       "      <td>rock</td>\n",
       "      <td>[0.08023071, 0.069732666, 0.03161621, 0.001800...</td>\n",
       "    </tr>\n",
       "    <tr>\n",
       "      <th>9999</th>\n",
       "      <td>rock_999</td>\n",
       "      <td>rock</td>\n",
       "      <td>[0.59295654, 0.6508484, 0.6373291, 0.51119995,...</td>\n",
       "    </tr>\n",
       "  </tbody>\n",
       "</table>\n",
       "<p>10000 rows × 3 columns</p>\n",
       "</div>"
      ],
      "text/plain": [
       "     sec3_track_id   label                                     sec3_subtracks\n",
       "0         reggae_0  reggae  [-0.032226562, -0.04006958, -0.10153198, -0.14...\n",
       "1         reggae_1  reggae  [0.21435547, 0.19308472, 0.19226074, 0.2298278...\n",
       "2         reggae_2  reggae  [0.0730896, 0.06726074, 0.055755615, 0.0475769...\n",
       "3         reggae_3  reggae  [-0.09701538, -0.079589844, -0.049835205, -0.0...\n",
       "4         reggae_4  reggae  [-0.027557373, -0.061676025, -0.09249878, -0.1...\n",
       "...            ...     ...                                                ...\n",
       "9995      rock_995    rock  [-0.11187744, -0.103637695, -0.08721924, -0.05...\n",
       "9996      rock_996    rock  [-0.009063721, 0.0043029785, 0.0033874512, -0....\n",
       "9997      rock_997    rock  [-0.041290283, -0.060668945, -0.06274414, -0.0...\n",
       "9998      rock_998    rock  [0.08023071, 0.069732666, 0.03161621, 0.001800...\n",
       "9999      rock_999    rock  [0.59295654, 0.6508484, 0.6373291, 0.51119995,...\n",
       "\n",
       "[10000 rows x 3 columns]"
      ]
     },
     "execution_count": 13,
     "metadata": {},
     "output_type": "execute_result"
    }
   ],
   "source": [
    "data"
   ]
  },
  {
   "cell_type": "markdown",
   "metadata": {},
   "source": [
    "We compute the Mel Frequency C Coef. for each splitted track. It will be the feature to feed the network with"
   ]
  },
  {
   "cell_type": "code",
   "execution_count": 14,
   "metadata": {},
   "outputs": [],
   "source": [
    "sec3_mfcc = []\n",
    "\n",
    "for i in range(len(data['sec3_subtracks'])):\n",
    "    \n",
    "    sec3_mfcc.append(lr.feature.mfcc(y=data['sec3_subtracks'][i]))"
   ]
  },
  {
   "cell_type": "code",
   "execution_count": 15,
   "metadata": {},
   "outputs": [],
   "source": [
    "with open('Processed_data/sec3_mfcc', 'wb') as f: \n",
    "    pickle.dump(sec3_mfcc, f)"
   ]
  },
  {
   "cell_type": "code",
   "execution_count": 16,
   "metadata": {},
   "outputs": [],
   "source": [
    "with open('Processed_data/sec3_mfcc', 'rb') as f:\n",
    "    sec3_mfcc = pickle.load(f)"
   ]
  },
  {
   "cell_type": "markdown",
   "metadata": {},
   "source": [
    "We store the MFCC matrices of all the splitted tracks into a torch tensor"
   ]
  },
  {
   "cell_type": "code",
   "execution_count": 17,
   "metadata": {},
   "outputs": [],
   "source": [
    "sec3_mfcc = np.array(sec3_mfcc, dtype='float32')"
   ]
  },
  {
   "cell_type": "code",
   "execution_count": 18,
   "metadata": {},
   "outputs": [],
   "source": [
    "sec3_mfcc = sec3_mfcc.reshape((-1, 129, 20))"
   ]
  },
  {
   "cell_type": "code",
   "execution_count": 19,
   "metadata": {},
   "outputs": [
    {
     "data": {
      "text/plain": [
       "(10000, 129, 20)"
      ]
     },
     "execution_count": 19,
     "metadata": {},
     "output_type": "execute_result"
    }
   ],
   "source": [
    "sec3_mfcc.shape"
   ]
  },
  {
   "cell_type": "markdown",
   "metadata": {},
   "source": [
    "We create the target array encoding the labels with One Hot method"
   ]
  },
  {
   "cell_type": "code",
   "execution_count": 20,
   "metadata": {},
   "outputs": [
    {
     "data": {
      "text/plain": [
       "array([8, 8, 8, ..., 9, 9, 9])"
      ]
     },
     "execution_count": 20,
     "metadata": {},
     "output_type": "execute_result"
    }
   ],
   "source": [
    "labels = np.array(data['label'])\n",
    "le = preprocessing.LabelEncoder()\n",
    "target = le.fit_transform(labels)\n",
    "#target_one_hot = tf.one_hot(target.to(torch.int64), 10)\n",
    "\n",
    "y = target\n",
    "\n",
    "y"
   ]
  },
  {
   "cell_type": "code",
   "execution_count": 21,
   "metadata": {},
   "outputs": [
    {
     "data": {
      "text/plain": [
       "dtype('int64')"
      ]
     },
     "execution_count": 21,
     "metadata": {},
     "output_type": "execute_result"
    }
   ],
   "source": [
    "y.dtype"
   ]
  },
  {
   "cell_type": "code",
   "execution_count": 22,
   "metadata": {},
   "outputs": [],
   "source": [
    "scaler = StandardScaler()\n",
    "#sec3_mfcc_scaled = scaler.fit_transform(sec3_mfcc)\n",
    "\n",
    "sec3_mfcc_scaled = [None]*len(sec3_mfcc)\n",
    "for i in range(len(sec3_mfcc)):\n",
    "    sec3_mfcc_scaled[i] = scaler.fit_transform(sec3_mfcc[i])"
   ]
  },
  {
   "cell_type": "code",
   "execution_count": 23,
   "metadata": {},
   "outputs": [
    {
     "data": {
      "text/plain": [
       "10000"
      ]
     },
     "execution_count": 23,
     "metadata": {},
     "output_type": "execute_result"
    }
   ],
   "source": [
    "len(y)"
   ]
  },
  {
   "cell_type": "code",
   "execution_count": 24,
   "metadata": {},
   "outputs": [
    {
     "data": {
      "text/plain": [
       "10000"
      ]
     },
     "execution_count": 24,
     "metadata": {},
     "output_type": "execute_result"
    }
   ],
   "source": [
    "len(sec3_mfcc_scaled)"
   ]
  },
  {
   "cell_type": "code",
   "execution_count": 25,
   "metadata": {},
   "outputs": [
    {
     "data": {
      "text/plain": [
       "dtype('float32')"
      ]
     },
     "execution_count": 25,
     "metadata": {},
     "output_type": "execute_result"
    }
   ],
   "source": [
    "sec3_mfcc_scaled[0].dtype"
   ]
  },
  {
   "cell_type": "code",
   "execution_count": 26,
   "metadata": {},
   "outputs": [],
   "source": [
    "data_ok = []\n",
    "\n",
    "for i in range(len(sec3_mfcc_scaled)):\n",
    "\n",
    "    data_ok.append([sec3_mfcc_scaled[i].astype('float32'), y[i]])"
   ]
  },
  {
   "cell_type": "code",
   "execution_count": 27,
   "metadata": {},
   "outputs": [
    {
     "data": {
      "text/plain": [
       "10000"
      ]
     },
     "execution_count": 27,
     "metadata": {},
     "output_type": "execute_result"
    }
   ],
   "source": [
    "len(data_ok)"
   ]
  },
  {
   "cell_type": "code",
   "execution_count": 28,
   "metadata": {},
   "outputs": [
    {
     "data": {
      "text/plain": [
       "dtype('float32')"
      ]
     },
     "execution_count": 28,
     "metadata": {},
     "output_type": "execute_result"
    }
   ],
   "source": [
    "data_ok[0][0].dtype"
   ]
  },
  {
   "cell_type": "code",
   "execution_count": 29,
   "metadata": {},
   "outputs": [
    {
     "data": {
      "text/plain": [
       "2"
      ]
     },
     "execution_count": 29,
     "metadata": {},
     "output_type": "execute_result"
    }
   ],
   "source": [
    "len(data_ok[0])"
   ]
  },
  {
   "cell_type": "code",
   "execution_count": 30,
   "metadata": {},
   "outputs": [
    {
     "data": {
      "text/plain": [
       "(129, 20)"
      ]
     },
     "execution_count": 30,
     "metadata": {},
     "output_type": "execute_result"
    }
   ],
   "source": [
    "data_ok[0][0].shape"
   ]
  },
  {
   "cell_type": "code",
   "execution_count": 31,
   "metadata": {},
   "outputs": [],
   "source": [
    "data_train, data_test = train_test_split(\n",
    "    data_ok, test_size=0.2, random_state=42)"
   ]
  },
  {
   "cell_type": "code",
   "execution_count": 32,
   "metadata": {},
   "outputs": [
    {
     "data": {
      "text/plain": [
       "8000"
      ]
     },
     "execution_count": 32,
     "metadata": {},
     "output_type": "execute_result"
    }
   ],
   "source": [
    "len(data_train)"
   ]
  },
  {
   "cell_type": "code",
   "execution_count": 33,
   "metadata": {},
   "outputs": [
    {
     "data": {
      "text/plain": [
       "dtype('float32')"
      ]
     },
     "execution_count": 33,
     "metadata": {},
     "output_type": "execute_result"
    }
   ],
   "source": [
    "data_train[0][0].dtype"
   ]
  },
  {
   "cell_type": "code",
   "execution_count": 34,
   "metadata": {},
   "outputs": [
    {
     "data": {
      "text/plain": [
       "dtype('float32')"
      ]
     },
     "execution_count": 34,
     "metadata": {},
     "output_type": "execute_result"
    }
   ],
   "source": [
    "data_test[0][0].dtype"
   ]
  },
  {
   "cell_type": "code",
   "execution_count": 35,
   "metadata": {},
   "outputs": [
    {
     "data": {
      "text/plain": [
       "2"
      ]
     },
     "execution_count": 35,
     "metadata": {},
     "output_type": "execute_result"
    }
   ],
   "source": [
    "len(data_train[0])"
   ]
  },
  {
   "cell_type": "code",
   "execution_count": 36,
   "metadata": {},
   "outputs": [
    {
     "data": {
      "text/plain": [
       "(129, 20)"
      ]
     },
     "execution_count": 36,
     "metadata": {},
     "output_type": "execute_result"
    }
   ],
   "source": [
    "data_train[0][0].shape"
   ]
  },
  {
   "cell_type": "code",
   "execution_count": 37,
   "metadata": {},
   "outputs": [
    {
     "data": {
      "text/plain": [
       "67224"
      ]
     },
     "execution_count": 37,
     "metadata": {},
     "output_type": "execute_result"
    }
   ],
   "source": [
    "sys.getsizeof(data_train)"
   ]
  },
  {
   "cell_type": "code",
   "execution_count": 38,
   "metadata": {},
   "outputs": [
    {
     "data": {
      "text/plain": [
       "85176"
      ]
     },
     "execution_count": 38,
     "metadata": {},
     "output_type": "execute_result"
    }
   ],
   "source": [
    "sys.getsizeof(data_ok)"
   ]
  },
  {
   "cell_type": "code",
   "execution_count": 39,
   "metadata": {},
   "outputs": [
    {
     "data": {
      "text/plain": [
       "2000"
      ]
     },
     "execution_count": 39,
     "metadata": {},
     "output_type": "execute_result"
    }
   ],
   "source": [
    "len(data_test)"
   ]
  },
  {
   "cell_type": "code",
   "execution_count": 40,
   "metadata": {},
   "outputs": [],
   "source": [
    "with open('Processed_data/RNN/data_train', 'wb') as f: \n",
    "    pickle.dump(data_train, f)"
   ]
  },
  {
   "cell_type": "code",
   "execution_count": 41,
   "metadata": {},
   "outputs": [],
   "source": [
    "with open('Processed_data/RNN/data_test', 'wb') as f: \n",
    "    pickle.dump(data_test, f)"
   ]
  },
  {
   "cell_type": "code",
   "execution_count": null,
   "metadata": {},
   "outputs": [],
   "source": []
  }
 ],
 "metadata": {
  "kernelspec": {
   "display_name": "Python 3.9.15 ('deepl')",
   "language": "python",
   "name": "python3"
  },
  "language_info": {
   "codemirror_mode": {
    "name": "ipython",
    "version": 3
   },
   "file_extension": ".py",
   "mimetype": "text/x-python",
   "name": "python",
   "nbconvert_exporter": "python",
   "pygments_lexer": "ipython3",
   "version": "3.9.15"
  },
  "orig_nbformat": 4,
  "vscode": {
   "interpreter": {
    "hash": "d790fb20b6fae2e1b6718372c6237e86c2aea3e82a0d3ea3895ed3571041fb36"
   }
  }
 },
 "nbformat": 4,
 "nbformat_minor": 2
}
