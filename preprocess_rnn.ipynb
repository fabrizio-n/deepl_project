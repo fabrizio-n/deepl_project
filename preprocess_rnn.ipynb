{
 "cells": [
  {
   "cell_type": "markdown",
   "metadata": {},
   "source": [
    "# Music Genre Classification\n",
    "\n",
    "## Data Pre-Processing for Recurrent NN\n",
    "\n",
    "Fabrizio Niro - Jacopo Signò\n",
    "\n",
    "GTZAN Dataset - Music Genre Classification \n",
    "\n",
    "https://www.kaggle.com/datasets/andradaolteanu/gtzan-dataset-music-genre-classification"
   ]
  },
  {
   "cell_type": "code",
   "execution_count": 1,
   "metadata": {},
   "outputs": [],
   "source": [
    "import librosa as lr\n",
    "import pandas as pd\n",
    "import numpy as np\n",
    "import IPython.display as ipyd\n",
    "from collections import Counter\n",
    "import math\n",
    "import os\n",
    "from pathlib import Path\n",
    "import pickle\n",
    "import torch\n",
    "import sklearn\n",
    "import torch.nn.functional as tf\n",
    "from sklearn import preprocessing\n",
    "from sklearn.model_selection import train_test_split\n",
    "from sklearn.preprocessing import StandardScaler\n",
    "import sys"
   ]
  },
  {
   "cell_type": "markdown",
   "metadata": {},
   "source": [
    "The function \"tracksplit\" splits the audio track, loaded into an array, in n subtracks"
   ]
  },
  {
   "cell_type": "code",
   "execution_count": 2,
   "metadata": {},
   "outputs": [],
   "source": [
    "def tracksplit(track, nsplit = 10):\n",
    "    #splits a track in n subtracks of equal length\n",
    "    length = len(track) // nsplit\n",
    "    subtracks = []\n",
    "    acc = 0\n",
    "\n",
    "    for i in range(nsplit):\n",
    "        subtracks.append(track[acc:acc+length])\n",
    "        acc += length\n",
    "\n",
    "    return subtracks"
   ]
  },
  {
   "cell_type": "markdown",
   "metadata": {},
   "source": [
    "We iterate through the dataset structure to split all the audio tracks into 10 tracks of 3 seconds length"
   ]
  },
  {
   "cell_type": "code",
   "execution_count": 3,
   "metadata": {},
   "outputs": [
    {
     "name": "stderr",
     "output_type": "stream",
     "text": [
      "C:\\Users\\39388\\anaconda3\\lib\\site-packages\\librosa\\util\\decorators.py:88: UserWarning: PySoundFile failed. Trying audioread instead.\n",
      "  return f(*args, **kwargs)\n"
     ]
    }
   ],
   "source": [
    "sec3_subtracks = []\n",
    "\n",
    "for directory in os.listdir('Data/genres_original'):\n",
    "\n",
    "    for file in os.listdir('Data/genres_original/{}'.format(directory)):\n",
    "\n",
    "        try:\n",
    "            track, _ = lr.load('Data/genres_original/{}/{}'.format(directory, file))\n",
    "\n",
    "        except:\n",
    "            track, _ = lr.load('Data/genres_original/{}/{}{}'.format(directory, file[:-5], '0.wav'))\n",
    "\n",
    "        for subtr in tracksplit(track):\n",
    "\n",
    "            sec3_subtracks.append(subtr)\n"
   ]
  },
  {
   "cell_type": "markdown",
   "metadata": {},
   "source": [
    "The length of the arrays generated starting from the .wav files differs slightly among the set. We regularize the lengths taking as proxy the minimum length found "
   ]
  },
  {
   "cell_type": "code",
   "execution_count": 4,
   "metadata": {},
   "outputs": [
    {
     "data": {
      "text/plain": [
       "dict_keys([66179, 66968, 66167, 66528, 66176, 66352, 66140, 66134, 67012, 67228, 66308, 66330, 66682, 66880, 66110, 66374, 66418, 66616, 66814, 66792, 66506, 66150, 66440, 66924, 66000, 66770, 67580, 66594, 67210, 66198, 66748, 67034, 66946])"
      ]
     },
     "execution_count": 4,
     "metadata": {},
     "output_type": "execute_result"
    }
   ],
   "source": [
    "sec3_len =[]\n",
    "for i in sec3_subtracks:\n",
    "    sec3_len.append(len(i))\n",
    "\n",
    "Counter(sec3_len).keys()"
   ]
  },
  {
   "cell_type": "code",
   "execution_count": 5,
   "metadata": {},
   "outputs": [
    {
     "data": {
      "text/plain": [
       "66000"
      ]
     },
     "execution_count": 5,
     "metadata": {},
     "output_type": "execute_result"
    }
   ],
   "source": [
    "min_len = min(Counter(sec3_len).keys())\n",
    "min_len"
   ]
  },
  {
   "cell_type": "code",
   "execution_count": 11,
   "metadata": {},
   "outputs": [
    {
     "data": {
      "text/plain": [
       "dict_keys([66000])"
      ]
     },
     "execution_count": 11,
     "metadata": {},
     "output_type": "execute_result"
    }
   ],
   "source": [
    "sec3_subtr_trim = []\n",
    "for i in sec3_subtracks:\n",
    "    sec3_subtr_trim.append(i[:min_len])\n",
    "\n",
    "sec3_len_trim =[]\n",
    "for i in sec3_subtr_trim:\n",
    "    sec3_len_trim.append(len(i))\n",
    "\n",
    "Counter(sec3_len_trim).keys()"
   ]
  },
  {
   "cell_type": "code",
   "execution_count": 12,
   "metadata": {},
   "outputs": [],
   "source": [
    "Path('Processed_data/RNN').mkdir(parents=True, exist_ok=True)"
   ]
  },
  {
   "cell_type": "code",
   "execution_count": 13,
   "metadata": {},
   "outputs": [],
   "source": [
    "with open('Processed_data/sec3_subtr_trim', 'wb') as f:\n",
    "    pickle.dump(sec3_subtracks, f)"
   ]
  },
  {
   "cell_type": "markdown",
   "metadata": {},
   "source": [
    "The pandas dataframe \"data\" stores for each row the track id, the label and the array of the splitted tracks"
   ]
  },
  {
   "cell_type": "code",
   "execution_count": 14,
   "metadata": {},
   "outputs": [],
   "source": [
    "sec3_track_id = []\n",
    "label = []\n",
    "\n",
    "for dir in os.listdir('Data/genres_original'):\n",
    "\n",
    "    for i in range(1000):\n",
    "\n",
    "        sec3_track_id.append(f'{dir}_{i}')\n",
    "        label.append(f'{dir}')"
   ]
  },
  {
   "cell_type": "code",
   "execution_count": 16,
   "metadata": {
    "tags": [
     "parameters"
    ]
   },
   "outputs": [],
   "source": [
    "data = pd.DataFrame()\n",
    "data['sec3_track_id'] = sec3_track_id\n",
    "data['label'] = label\n",
    "data['sec3_subtracks'] = sec3_subtr_trim"
   ]
  },
  {
   "cell_type": "code",
   "execution_count": 17,
   "metadata": {},
   "outputs": [],
   "source": [
    "with open('Processed_data/data_id_lab_subt', 'wb') as f:\n",
    "    pickle.dump(data, f)"
   ]
  },
  {
   "cell_type": "code",
   "execution_count": 18,
   "metadata": {},
   "outputs": [],
   "source": [
    "with open('Processed_data/data_id_lab_subt', 'rb') as f:\n",
    "    data = pickle.load(f)"
   ]
  },
  {
   "cell_type": "code",
   "execution_count": 19,
   "metadata": {},
   "outputs": [
    {
     "data": {
      "text/html": [
       "<div>\n",
       "<style scoped>\n",
       "    .dataframe tbody tr th:only-of-type {\n",
       "        vertical-align: middle;\n",
       "    }\n",
       "\n",
       "    .dataframe tbody tr th {\n",
       "        vertical-align: top;\n",
       "    }\n",
       "\n",
       "    .dataframe thead th {\n",
       "        text-align: right;\n",
       "    }\n",
       "</style>\n",
       "<table border=\"1\" class=\"dataframe\">\n",
       "  <thead>\n",
       "    <tr style=\"text-align: right;\">\n",
       "      <th></th>\n",
       "      <th>sec3_track_id</th>\n",
       "      <th>label</th>\n",
       "      <th>sec3_subtracks</th>\n",
       "    </tr>\n",
       "  </thead>\n",
       "  <tbody>\n",
       "    <tr>\n",
       "      <th>0</th>\n",
       "      <td>blues_0</td>\n",
       "      <td>blues</td>\n",
       "      <td>[0.0073242188, 0.016601562, 0.0076293945, -0.0...</td>\n",
       "    </tr>\n",
       "    <tr>\n",
       "      <th>1</th>\n",
       "      <td>blues_1</td>\n",
       "      <td>blues</td>\n",
       "      <td>[-0.072753906, -0.055389404, -0.036102295, -0....</td>\n",
       "    </tr>\n",
       "    <tr>\n",
       "      <th>2</th>\n",
       "      <td>blues_2</td>\n",
       "      <td>blues</td>\n",
       "      <td>[0.06997681, 0.14709473, 0.2263794, 0.28271484...</td>\n",
       "    </tr>\n",
       "    <tr>\n",
       "      <th>3</th>\n",
       "      <td>blues_3</td>\n",
       "      <td>blues</td>\n",
       "      <td>[-0.31854248, -0.2897339, -0.25097656, -0.2348...</td>\n",
       "    </tr>\n",
       "    <tr>\n",
       "      <th>4</th>\n",
       "      <td>blues_4</td>\n",
       "      <td>blues</td>\n",
       "      <td>[0.19113159, 0.12878418, 0.06561279, -0.004669...</td>\n",
       "    </tr>\n",
       "    <tr>\n",
       "      <th>...</th>\n",
       "      <td>...</td>\n",
       "      <td>...</td>\n",
       "      <td>...</td>\n",
       "    </tr>\n",
       "    <tr>\n",
       "      <th>9995</th>\n",
       "      <td>rock_995</td>\n",
       "      <td>rock</td>\n",
       "      <td>[-0.004211426, 0.013061523, 0.007232666, -0.00...</td>\n",
       "    </tr>\n",
       "    <tr>\n",
       "      <th>9996</th>\n",
       "      <td>rock_996</td>\n",
       "      <td>rock</td>\n",
       "      <td>[0.007659912, 0.0037231445, 0.004058838, 0.010...</td>\n",
       "    </tr>\n",
       "    <tr>\n",
       "      <th>9997</th>\n",
       "      <td>rock_997</td>\n",
       "      <td>rock</td>\n",
       "      <td>[0.028564453, 0.03237915, 0.042114258, 0.05493...</td>\n",
       "    </tr>\n",
       "    <tr>\n",
       "      <th>9998</th>\n",
       "      <td>rock_998</td>\n",
       "      <td>rock</td>\n",
       "      <td>[-0.08312988, -0.07098389, -0.029724121, -0.01...</td>\n",
       "    </tr>\n",
       "    <tr>\n",
       "      <th>9999</th>\n",
       "      <td>rock_999</td>\n",
       "      <td>rock</td>\n",
       "      <td>[0.014709473, 0.021728516, 0.021942139, 0.0204...</td>\n",
       "    </tr>\n",
       "  </tbody>\n",
       "</table>\n",
       "<p>10000 rows × 3 columns</p>\n",
       "</div>"
      ],
      "text/plain": [
       "     sec3_track_id  label                                     sec3_subtracks\n",
       "0          blues_0  blues  [0.0073242188, 0.016601562, 0.0076293945, -0.0...\n",
       "1          blues_1  blues  [-0.072753906, -0.055389404, -0.036102295, -0....\n",
       "2          blues_2  blues  [0.06997681, 0.14709473, 0.2263794, 0.28271484...\n",
       "3          blues_3  blues  [-0.31854248, -0.2897339, -0.25097656, -0.2348...\n",
       "4          blues_4  blues  [0.19113159, 0.12878418, 0.06561279, -0.004669...\n",
       "...            ...    ...                                                ...\n",
       "9995      rock_995   rock  [-0.004211426, 0.013061523, 0.007232666, -0.00...\n",
       "9996      rock_996   rock  [0.007659912, 0.0037231445, 0.004058838, 0.010...\n",
       "9997      rock_997   rock  [0.028564453, 0.03237915, 0.042114258, 0.05493...\n",
       "9998      rock_998   rock  [-0.08312988, -0.07098389, -0.029724121, -0.01...\n",
       "9999      rock_999   rock  [0.014709473, 0.021728516, 0.021942139, 0.0204...\n",
       "\n",
       "[10000 rows x 3 columns]"
      ]
     },
     "execution_count": 19,
     "metadata": {},
     "output_type": "execute_result"
    }
   ],
   "source": [
    "data"
   ]
  },
  {
   "cell_type": "markdown",
   "metadata": {},
   "source": [
    "We compute the Mel Frequency C Coef. for each splitted track. It will be the feature to feed the network with"
   ]
  },
  {
   "cell_type": "code",
   "execution_count": 20,
   "metadata": {},
   "outputs": [],
   "source": [
    "sec3_mfcc = []\n",
    "\n",
    "for i in range(len(data['sec3_subtracks'])):\n",
    "    \n",
    "    sec3_mfcc.append(lr.feature.mfcc(y=data['sec3_subtracks'][i]))"
   ]
  },
  {
   "cell_type": "code",
   "execution_count": 21,
   "metadata": {},
   "outputs": [],
   "source": [
    "with open('Processed_data/sec3_mfcc', 'wb') as f: \n",
    "    pickle.dump(sec3_mfcc, f)"
   ]
  },
  {
   "cell_type": "code",
<<<<<<< HEAD
   "execution_count": 22,
=======
   "execution_count": 16,
>>>>>>> c39a303971334cfb8f35848788ea672c2a9372d6
   "metadata": {},
   "outputs": [],
   "source": [
    "with open('Processed_data/sec3_mfcc', 'rb') as f:\n",
    "    sec3_mfcc = pickle.load(f)"
   ]
  },
  {
   "cell_type": "markdown",
   "metadata": {},
   "source": [
    "We store the MFCC matrices of all the splitted tracks into a torch tensor"
   ]
  },
  {
   "cell_type": "code",
<<<<<<< HEAD
   "execution_count": 23,
=======
   "execution_count": 17,
>>>>>>> c39a303971334cfb8f35848788ea672c2a9372d6
   "metadata": {},
   "outputs": [],
   "source": [
    "sec3_mfcc = np.array(sec3_mfcc, dtype='float32')"
   ]
  },
  {
   "cell_type": "code",
<<<<<<< HEAD
   "execution_count": 24,
   "metadata": {},
   "outputs": [
    {
     "data": {
      "text/plain": [
       "array([[[-2.42435989e+02, -2.12989746e+02, -1.95409332e+02, ...,\n",
       "         -1.31820496e+02, -1.24157066e+02, -1.12910622e+02],\n",
       "        [ 1.02184860e+02,  1.03544777e+02,  1.04360657e+02, ...,\n",
       "          8.19439240e+01,  6.37359428e+01,  6.03640289e+01],\n",
       "        [-9.91323471e+00, -1.08341732e+01, -1.85501546e-01, ...,\n",
       "          2.70982361e+01,  2.11731300e+01,  2.12309504e+00],\n",
       "        ...,\n",
       "        [ 1.03518152e+01,  7.00337982e+00,  4.54147720e+00, ...,\n",
       "          8.49406052e+00,  7.39343071e+00,  8.68510056e+00],\n",
       "        [ 3.13433075e+00,  3.56735015e+00,  4.01110125e+00, ...,\n",
       "          3.52014273e-01, -7.45736241e-01, -5.25092888e+00],\n",
       "        [ 5.65740490e+00,  3.57107830e+00,  1.60537195e+00, ...,\n",
       "          2.21827078e+00,  8.28157902e+00,  8.87151527e+00]],\n",
       "\n",
       "       [[-1.66252609e+02, -1.50537872e+02, -1.64501602e+02, ...,\n",
       "         -1.82225540e+02, -1.90939499e+02, -1.42529205e+02],\n",
       "        [ 8.45068054e+01,  9.11754532e+01,  9.82845154e+01, ...,\n",
       "          1.09344360e+02,  1.12508041e+02,  1.23712967e+02],\n",
       "        [-6.56913805e+00, -1.58977604e+01, -2.60430603e+01, ...,\n",
       "         -2.53700008e+01, -1.78189754e+01, -8.89552116e+00],\n",
       "        ...,\n",
       "        [-3.29796970e-01,  1.88152587e+00,  3.24396038e+00, ...,\n",
       "         -1.98550892e+00, -6.72441864e+00, -7.93290663e+00],\n",
       "        [ 5.97700787e+00,  5.98302746e+00,  3.14753675e+00, ...,\n",
       "         -6.30575037e+00, -1.16736202e+01, -5.00802708e+00],\n",
       "        [ 2.86690021e+00,  2.45514703e+00,  4.37131739e+00, ...,\n",
       "          6.37617335e-02,  2.92509818e+00,  1.27108917e+01]],\n",
       "\n",
       "       [[-1.30686600e+02, -1.24863907e+02, -1.53292694e+02, ...,\n",
       "         -6.46218719e+01, -9.10472717e+01, -9.15163116e+01],\n",
       "        [ 1.18800674e+02,  1.18187347e+02,  1.25315292e+02, ...,\n",
       "          1.38244598e+02,  1.34842987e+02,  1.33173615e+02],\n",
       "        [-1.37555809e+01, -1.27488422e+01, -6.25731564e+00, ...,\n",
       "         -1.99758224e+01, -1.77499256e+01, -1.21712685e+01],\n",
       "        ...,\n",
       "        [ 1.56249893e+00,  4.26946998e-01, -1.73470700e+00, ...,\n",
       "         -1.71505165e+00, -8.04718208e+00, -1.35893230e+01],\n",
       "        [-9.11964417e+00, -5.75803232e+00, -1.91616631e+00, ...,\n",
       "         -5.94549060e-01,  6.40527368e-01,  1.92254663e+00],\n",
       "        [ 1.75612295e+00,  2.93487251e-01,  6.66335046e-01, ...,\n",
       "          6.78889799e+00,  6.11426306e+00,  1.39075100e-01]],\n",
       "\n",
       "       ...,\n",
       "\n",
       "       [[-2.71229492e+02, -2.66096924e+02, -2.70246490e+02, ...,\n",
       "         -1.01987579e+02, -8.09102173e+01, -7.00571365e+01],\n",
       "        [ 1.55687317e+02,  1.50219437e+02,  1.36886658e+02, ...,\n",
       "          7.74343796e+01,  8.34798584e+01,  8.57360077e+01],\n",
       "        [-9.69154549e+00, -1.64169750e+01, -2.09088497e+01, ...,\n",
       "         -4.55300903e+01, -4.51654510e+01, -4.06982574e+01],\n",
       "        ...,\n",
       "        [ 5.31846285e+00,  7.90985155e+00,  7.97521591e+00, ...,\n",
       "          7.68988419e+00,  5.98636389e+00,  3.85283560e-01],\n",
       "        [-4.53116846e+00, -3.52560592e+00, -4.92088270e+00, ...,\n",
       "         -9.27098036e-01, -7.11482048e+00, -2.31055737e+00],\n",
       "        [-2.11280394e+00,  8.16493154e-01,  1.86766839e+00, ...,\n",
       "          4.85736012e-01, -2.05606651e+00, -4.59577465e+00]],\n",
       "\n",
       "       [[-1.14384575e+02, -9.33772507e+01, -1.00535477e+02, ...,\n",
       "         -2.40019821e+02, -2.36800552e+02, -2.31431244e+02],\n",
       "        [ 8.75875473e+01,  9.11564484e+01,  9.33505173e+01, ...,\n",
       "          1.60065277e+02,  1.58219330e+02,  1.51003510e+02],\n",
       "        [-3.99956360e+01, -4.35432281e+01, -5.12140961e+01, ...,\n",
       "         -1.91529388e+01, -1.31000748e+01, -1.77078176e+00],\n",
       "        ...,\n",
       "        [-6.02348089e+00, -9.20673311e-02,  6.84944630e+00, ...,\n",
       "          2.61734724e+00, -2.00571775e-01, -2.68385220e+00],\n",
       "        [ 1.26220548e+00,  2.75076079e+00,  1.16243255e+00, ...,\n",
       "         -5.78009081e+00, -8.97271538e+00, -5.88662767e+00],\n",
       "        [-1.17379189e+00, -3.10174227e+00, -5.08884239e+00, ...,\n",
       "         -3.82595134e+00, -2.23356175e+00, -1.57104802e+00]],\n",
       "\n",
       "       [[-2.68203857e+02, -2.51459335e+02, -2.53946274e+02, ...,\n",
       "         -2.07596283e+02, -2.09143967e+02, -1.99131546e+02],\n",
       "        [ 1.61914764e+02,  1.58206177e+02,  1.51726532e+02, ...,\n",
       "          9.48810806e+01,  9.40802536e+01,  9.28705597e+01],\n",
       "        [-2.30127501e+00, -1.17847080e+01, -1.53831491e+01, ...,\n",
       "         -2.86025562e+01, -2.72962589e+01, -2.75851746e+01],\n",
       "        ...,\n",
       "        [-3.34381247e+00, -5.11888027e-01,  3.19390297e-01, ...,\n",
       "         -8.44573689e+00, -3.11925006e+00,  2.03382111e+00],\n",
       "        [ 5.89527416e+00, -3.06535983e+00, -5.44946098e+00, ...,\n",
       "         -6.79746485e+00, -9.17708588e+00, -2.91854358e+00],\n",
       "        [ 4.67191696e+00, -6.13491416e-01, -7.79531598e-01, ...,\n",
       "         -2.18373132e+00, -4.07264996e+00, -5.37889194e+00]]],\n",
       "      dtype=float32)"
      ]
     },
     "execution_count": 24,
     "metadata": {},
     "output_type": "execute_result"
    }
   ],
=======
   "execution_count": 18,
   "metadata": {},
   "outputs": [],
>>>>>>> c39a303971334cfb8f35848788ea672c2a9372d6
   "source": [
    "sec3_mfcc = sec3_mfcc.reshape((-1, 129, 20))"
   ]
  },
  {
   "cell_type": "code",
   "execution_count": 19,
   "metadata": {},
   "outputs": [
    {
     "data": {
      "text/plain": [
       "(10000, 129, 20)"
      ]
     },
     "execution_count": 19,
     "metadata": {},
     "output_type": "execute_result"
    }
   ],
   "source": [
    "sec3_mfcc.shape"
   ]
  },
  {
   "cell_type": "markdown",
   "metadata": {},
   "source": [
    "We create the target array encoding the labels with One Hot method"
   ]
  },
  {
   "cell_type": "code",
<<<<<<< HEAD
   "execution_count": 25,
=======
   "execution_count": 20,
>>>>>>> c39a303971334cfb8f35848788ea672c2a9372d6
   "metadata": {},
   "outputs": [
    {
     "data": {
      "text/plain": [
       "array([0, 0, 0, ..., 9, 9, 9])"
      ]
     },
<<<<<<< HEAD
     "execution_count": 25,
=======
     "execution_count": 20,
>>>>>>> c39a303971334cfb8f35848788ea672c2a9372d6
     "metadata": {},
     "output_type": "execute_result"
    }
   ],
   "source": [
    "labels = np.array(data['label'])\n",
    "le = preprocessing.LabelEncoder()\n",
    "target = le.fit_transform(labels)\n",
    "#target_one_hot = tf.one_hot(target.to(torch.int64), 10)\n",
    "\n",
    "y = target\n",
    "\n",
    "y"
   ]
  },
  {
   "cell_type": "code",
<<<<<<< HEAD
   "execution_count": 26,
=======
   "execution_count": 21,
>>>>>>> c39a303971334cfb8f35848788ea672c2a9372d6
   "metadata": {},
   "outputs": [
    {
     "data": {
      "text/plain": [
       "dtype('int32')"
      ]
     },
<<<<<<< HEAD
     "execution_count": 26,
=======
     "execution_count": 21,
>>>>>>> c39a303971334cfb8f35848788ea672c2a9372d6
     "metadata": {},
     "output_type": "execute_result"
    }
   ],
   "source": [
    "y.dtype"
   ]
  },
  {
   "cell_type": "code",
<<<<<<< HEAD
   "execution_count": 27,
=======
   "execution_count": 22,
>>>>>>> c39a303971334cfb8f35848788ea672c2a9372d6
   "metadata": {},
   "outputs": [],
   "source": [
    "scaler = StandardScaler()\n",
    "#sec3_mfcc_scaled = scaler.fit_transform(sec3_mfcc)\n",
    "\n",
    "sec3_mfcc_scaled = [None]*len(sec3_mfcc)\n",
    "for i in range(len(sec3_mfcc)):\n",
    "    sec3_mfcc_scaled[i] = scaler.fit_transform(sec3_mfcc[i])"
   ]
  },
  {
   "cell_type": "code",
<<<<<<< HEAD
   "execution_count": 28,
=======
   "execution_count": 23,
>>>>>>> c39a303971334cfb8f35848788ea672c2a9372d6
   "metadata": {},
   "outputs": [
    {
     "data": {
      "text/plain": [
       "10000"
      ]
     },
<<<<<<< HEAD
     "execution_count": 28,
=======
     "execution_count": 23,
>>>>>>> c39a303971334cfb8f35848788ea672c2a9372d6
     "metadata": {},
     "output_type": "execute_result"
    }
   ],
   "source": [
    "len(y)"
   ]
  },
  {
   "cell_type": "code",
<<<<<<< HEAD
   "execution_count": 29,
=======
   "execution_count": 24,
>>>>>>> c39a303971334cfb8f35848788ea672c2a9372d6
   "metadata": {},
   "outputs": [
    {
     "data": {
      "text/plain": [
       "10000"
      ]
     },
<<<<<<< HEAD
     "execution_count": 29,
=======
     "execution_count": 24,
>>>>>>> c39a303971334cfb8f35848788ea672c2a9372d6
     "metadata": {},
     "output_type": "execute_result"
    }
   ],
   "source": [
    "len(sec3_mfcc_scaled)"
   ]
  },
  {
   "cell_type": "code",
<<<<<<< HEAD
   "execution_count": 30,
=======
   "execution_count": 25,
>>>>>>> c39a303971334cfb8f35848788ea672c2a9372d6
   "metadata": {},
   "outputs": [
    {
     "data": {
      "text/plain": [
       "dtype('float32')"
      ]
     },
<<<<<<< HEAD
     "execution_count": 30,
=======
     "execution_count": 25,
>>>>>>> c39a303971334cfb8f35848788ea672c2a9372d6
     "metadata": {},
     "output_type": "execute_result"
    }
   ],
   "source": [
    "sec3_mfcc_scaled[0].dtype"
   ]
  },
  {
   "cell_type": "code",
<<<<<<< HEAD
   "execution_count": 32,
=======
   "execution_count": 26,
>>>>>>> c39a303971334cfb8f35848788ea672c2a9372d6
   "metadata": {},
   "outputs": [],
   "source": [
    "data_ok = []\n",
    "\n",
    "for i in range(len(sec3_mfcc_scaled)):\n",
    "\n",
    "    data_ok.append([sec3_mfcc_scaled[i].astype('float32'), y[i]])"
   ]
  },
  {
   "cell_type": "markdown",
   "metadata": {},
   "source": [
    "Data_ok is a list of 10000 list, each of this 10000 list has 2 components, the first is the matrix with the 20 mfcc features describing the specific song, the second is the number corrispondign to the category of the song "
   ]
  },
  {
   "cell_type": "code",
<<<<<<< HEAD
   "execution_count": 33,
=======
   "execution_count": 27,
>>>>>>> c39a303971334cfb8f35848788ea672c2a9372d6
   "metadata": {},
   "outputs": [
    {
     "data": {
      "text/plain": [
       "10000"
      ]
     },
<<<<<<< HEAD
     "execution_count": 33,
=======
     "execution_count": 27,
>>>>>>> c39a303971334cfb8f35848788ea672c2a9372d6
     "metadata": {},
     "output_type": "execute_result"
    }
   ],
   "source": [
    "len(data_ok)"
   ]
  },
  {
   "cell_type": "code",
<<<<<<< HEAD
   "execution_count": 34,
=======
   "execution_count": 28,
>>>>>>> c39a303971334cfb8f35848788ea672c2a9372d6
   "metadata": {},
   "outputs": [
    {
     "data": {
      "text/plain": [
       "dtype('float32')"
      ]
     },
<<<<<<< HEAD
     "execution_count": 34,
=======
     "execution_count": 28,
>>>>>>> c39a303971334cfb8f35848788ea672c2a9372d6
     "metadata": {},
     "output_type": "execute_result"
    }
   ],
   "source": [
    "data_ok[0][0].dtype"
   ]
  },
  {
   "cell_type": "code",
<<<<<<< HEAD
   "execution_count": 35,
=======
   "execution_count": 29,
>>>>>>> c39a303971334cfb8f35848788ea672c2a9372d6
   "metadata": {},
   "outputs": [
    {
     "data": {
      "text/plain": [
       "2"
      ]
     },
<<<<<<< HEAD
     "execution_count": 35,
=======
     "execution_count": 29,
>>>>>>> c39a303971334cfb8f35848788ea672c2a9372d6
     "metadata": {},
     "output_type": "execute_result"
    }
   ],
   "source": [
    "len(data_ok[0])"
   ]
  },
  {
   "cell_type": "code",
<<<<<<< HEAD
   "execution_count": 36,
=======
   "execution_count": 30,
>>>>>>> c39a303971334cfb8f35848788ea672c2a9372d6
   "metadata": {},
   "outputs": [
    {
     "data": {
      "text/plain": [
       "(129, 20)"
      ]
     },
<<<<<<< HEAD
     "execution_count": 36,
=======
     "execution_count": 30,
>>>>>>> c39a303971334cfb8f35848788ea672c2a9372d6
     "metadata": {},
     "output_type": "execute_result"
    }
   ],
   "source": [
    "data_ok[0][0].shape"
   ]
  },
  {
   "cell_type": "code",
<<<<<<< HEAD
   "execution_count": 37,
=======
   "execution_count": 31,
>>>>>>> c39a303971334cfb8f35848788ea672c2a9372d6
   "metadata": {},
   "outputs": [],
   "source": [
    "data_train, data_test = train_test_split(\n",
    "    data_ok, test_size=0.2, random_state=42)"
   ]
  },
  {
   "cell_type": "code",
<<<<<<< HEAD
   "execution_count": 38,
=======
   "execution_count": 32,
>>>>>>> c39a303971334cfb8f35848788ea672c2a9372d6
   "metadata": {},
   "outputs": [
    {
     "data": {
      "text/plain": [
       "8000"
      ]
     },
<<<<<<< HEAD
     "execution_count": 38,
=======
     "execution_count": 32,
>>>>>>> c39a303971334cfb8f35848788ea672c2a9372d6
     "metadata": {},
     "output_type": "execute_result"
    }
   ],
   "source": [
    "len(data_train)"
   ]
  },
  {
   "cell_type": "code",
<<<<<<< HEAD
   "execution_count": 39,
=======
   "execution_count": 33,
>>>>>>> c39a303971334cfb8f35848788ea672c2a9372d6
   "metadata": {},
   "outputs": [
    {
     "data": {
      "text/plain": [
       "dtype('float32')"
      ]
     },
<<<<<<< HEAD
     "execution_count": 39,
=======
     "execution_count": 33,
>>>>>>> c39a303971334cfb8f35848788ea672c2a9372d6
     "metadata": {},
     "output_type": "execute_result"
    }
   ],
   "source": [
    "data_train[0][0].dtype"
   ]
  },
  {
   "cell_type": "code",
<<<<<<< HEAD
   "execution_count": 40,
=======
   "execution_count": 34,
>>>>>>> c39a303971334cfb8f35848788ea672c2a9372d6
   "metadata": {},
   "outputs": [
    {
     "data": {
      "text/plain": [
       "dtype('float32')"
      ]
     },
<<<<<<< HEAD
     "execution_count": 40,
=======
     "execution_count": 34,
>>>>>>> c39a303971334cfb8f35848788ea672c2a9372d6
     "metadata": {},
     "output_type": "execute_result"
    }
   ],
   "source": [
    "data_test[0][0].dtype"
   ]
  },
  {
   "cell_type": "code",
<<<<<<< HEAD
   "execution_count": 41,
=======
   "execution_count": 35,
>>>>>>> c39a303971334cfb8f35848788ea672c2a9372d6
   "metadata": {},
   "outputs": [
    {
     "data": {
      "text/plain": [
       "2"
      ]
     },
<<<<<<< HEAD
     "execution_count": 41,
=======
     "execution_count": 35,
>>>>>>> c39a303971334cfb8f35848788ea672c2a9372d6
     "metadata": {},
     "output_type": "execute_result"
    }
   ],
   "source": [
    "len(data_train[0])"
   ]
  },
  {
   "cell_type": "code",
<<<<<<< HEAD
   "execution_count": 42,
=======
   "execution_count": 36,
>>>>>>> c39a303971334cfb8f35848788ea672c2a9372d6
   "metadata": {},
   "outputs": [
    {
     "data": {
      "text/plain": [
       "(129, 20)"
      ]
     },
<<<<<<< HEAD
     "execution_count": 42,
=======
     "execution_count": 36,
>>>>>>> c39a303971334cfb8f35848788ea672c2a9372d6
     "metadata": {},
     "output_type": "execute_result"
    }
   ],
   "source": [
    "data_train[0][0].shape"
   ]
  },
  {
   "cell_type": "code",
<<<<<<< HEAD
   "execution_count": 43,
=======
   "execution_count": 37,
>>>>>>> c39a303971334cfb8f35848788ea672c2a9372d6
   "metadata": {},
   "outputs": [
    {
     "data": {
      "text/plain": [
       "67224"
      ]
     },
<<<<<<< HEAD
     "execution_count": 43,
=======
     "execution_count": 37,
>>>>>>> c39a303971334cfb8f35848788ea672c2a9372d6
     "metadata": {},
     "output_type": "execute_result"
    }
   ],
   "source": [
    "sys.getsizeof(data_train)"
   ]
  },
  {
   "cell_type": "code",
   "execution_count": 38,
   "metadata": {},
   "outputs": [
    {
     "data": {
      "text/plain": [
       "85176"
      ]
     },
     "execution_count": 38,
     "metadata": {},
     "output_type": "execute_result"
    }
   ],
   "source": [
    "sys.getsizeof(data_ok)"
   ]
  },
  {
   "cell_type": "code",
<<<<<<< HEAD
   "execution_count": 44,
=======
   "execution_count": 39,
>>>>>>> c39a303971334cfb8f35848788ea672c2a9372d6
   "metadata": {},
   "outputs": [
    {
     "data": {
      "text/plain": [
       "2000"
      ]
     },
<<<<<<< HEAD
     "execution_count": 44,
=======
     "execution_count": 39,
>>>>>>> c39a303971334cfb8f35848788ea672c2a9372d6
     "metadata": {},
     "output_type": "execute_result"
    }
   ],
   "source": [
    "len(data_test)"
   ]
  },
  {
   "cell_type": "code",
<<<<<<< HEAD
   "execution_count": 45,
=======
   "execution_count": 40,
>>>>>>> c39a303971334cfb8f35848788ea672c2a9372d6
   "metadata": {},
   "outputs": [],
   "source": [
    "with open('Processed_data/RNN/data_train', 'wb') as f: \n",
    "    pickle.dump(data_train, f)"
   ]
  },
  {
   "cell_type": "code",
<<<<<<< HEAD
   "execution_count": 46,
=======
   "execution_count": 41,
>>>>>>> c39a303971334cfb8f35848788ea672c2a9372d6
   "metadata": {},
   "outputs": [],
   "source": [
    "with open('Processed_data/RNN/data_test', 'wb') as f: \n",
    "    pickle.dump(data_test, f)"
   ]
  }
 ],
 "metadata": {
  "kernelspec": {
   "display_name": "Python 3 (ipykernel)",
   "language": "python",
   "name": "python3"
  },
  "language_info": {
   "codemirror_mode": {
    "name": "ipython",
    "version": 3
   },
   "file_extension": ".py",
   "mimetype": "text/x-python",
   "name": "python",
   "nbconvert_exporter": "python",
   "pygments_lexer": "ipython3",
   "version": "3.9.12"
  },
  "vscode": {
   "interpreter": {
    "hash": "d790fb20b6fae2e1b6718372c6237e86c2aea3e82a0d3ea3895ed3571041fb36"
   }
  }
 },
 "nbformat": 4,
 "nbformat_minor": 2
}
