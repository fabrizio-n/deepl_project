{
 "cells": [
  {
   "cell_type": "markdown",
   "metadata": {},
   "source": [
    "# Music Genre Classification\n",
    "\n",
    "## Data Pre-Processing for Convolutional Neural Network\n",
    "\n",
    "Fabrizio Niro - Jacopo Signò\n",
    "\n",
    "GTZAN Dataset - Music Genre Classification \n",
    "\n",
    "https://www.kaggle.com/datasets/andradaolteanu/gtzan-dataset-music-genre-classification"
   ]
  },
  {
   "cell_type": "code",
   "execution_count": null,
   "metadata": {},
   "outputs": [],
   "source": []
  }
 ],
 "metadata": {
  "kernelspec": {
   "display_name": "Python 3.11.0 64-bit",
   "language": "python",
   "name": "python3"
  },
  "language_info": {
   "name": "python",
   "version": "3.11.0"
  },
  "orig_nbformat": 4,
  "vscode": {
   "interpreter": {
    "hash": "6ad71eeb2ac8807a35693d559c47252f1553b35f177312b791b19b2d54e18857"
   }
  }
 },
 "nbformat": 4,
 "nbformat_minor": 2
}
